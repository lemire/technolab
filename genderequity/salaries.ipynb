{
 "cells": [
  {
   "cell_type": "markdown",
   "metadata": {
    "nbpresent": {
     "id": "126c5a88-ab32-4c59-8d87-0cfc029d55c7"
    },
    "slideshow": {
     "slide_type": "slide"
    }
   },
   "source": [
    "## Do men earn more than women?\n",
    "\n",
    "\n",
    "It is often reported that women earn more than man. The Ontario government (in Canada) reports the salary of all public-sector employees making more than a given amount. This data is freely available."
   ]
  },
  {
   "cell_type": "code",
   "execution_count": 1,
   "metadata": {
    "collapsed": false,
    "nbpresent": {
     "id": "b3a3a1a8-3e09-4b3c-afcb-4c5fdae97ae0"
    },
    "slideshow": {
     "slide_type": "skip"
    }
   },
   "outputs": [
    {
     "name": "stdout",
     "output_type": "stream",
     "text": [
      "Requirement already up-to-date: kiwisolver in /anaconda/lib/python3.5/site-packages (1.0.1)\n",
      "Requirement already up-to-date: pandas in /Users/lemire/.local/lib/python3.5/site-packages (0.23.1)\n",
      "Requirement already up-to-date: sklearn in /Users/lemire/.local/lib/python3.5/site-packages (0.0)\n",
      "Requirement already up-to-date: matplotlib in /Users/lemire/.local/lib/python3.5/site-packages (2.2.2)\n",
      "Requirement already up-to-date: numpy in /anaconda/lib/python3.5/site-packages (1.14.5)\n",
      "Requirement not upgraded as not directly required: setuptools in /anaconda/lib/python3.5/site-packages/setuptools-23.0.0-py3.5.egg (from kiwisolver) (23.0.0)\n",
      "Requirement not upgraded as not directly required: pytz>=2011k in /anaconda/lib/python3.5/site-packages (from pandas) (2016.4)\n",
      "Requirement not upgraded as not directly required: python-dateutil>=2.5.0 in /anaconda/lib/python3.5/site-packages (from pandas) (2.5.3)\n",
      "Requirement not upgraded as not directly required: scikit-learn in /Users/lemire/.local/lib/python3.5/site-packages (from sklearn) (0.19.1)\n",
      "Requirement not upgraded as not directly required: six>=1.10 in /anaconda/lib/python3.5/site-packages (from matplotlib) (1.10.0)\n",
      "Requirement not upgraded as not directly required: cycler>=0.10 in /anaconda/lib/python3.5/site-packages (from matplotlib) (0.10.0)\n",
      "Requirement not upgraded as not directly required: pyparsing!=2.0.4,!=2.1.2,!=2.1.6,>=2.0.1 in /anaconda/lib/python3.5/site-packages (from matplotlib) (2.1.4)\n",
      "absl-py==0.2.2\n",
      "alabaster==0.7.8\n",
      "anaconda-client==1.4.0\n",
      "anaconda-navigator==1.2.1\n",
      "appnope==0.1.0\n",
      "appscript==1.0.1\n",
      "argcomplete==1.0.0\n",
      "astor==0.6.2\n",
      "astropy==1.2.1\n",
      "attrs==18.1.0\n",
      "Babel==2.3.3\n",
      "backports.shutil-get-terminal-size==1.0.0\n",
      "beautifulsoup4==4.4.1\n",
      "bitarray==0.8.1\n",
      "blaze==0.10.1\n",
      "bleach==1.5.0\n",
      "bokeh==0.12.0\n",
      "boto==2.40.0\n",
      "Bottleneck==1.1.0\n",
      "cffi==1.6.0\n",
      "chest==0.2.3\n",
      "click==6.6\n",
      "cloudpickle==0.2.1\n",
      "clyent==1.2.2\n",
      "colorama==0.3.7\n",
      "conda==4.1.6\n",
      "conda-build==1.21.3\n",
      "conda-env==2.5.0a0\n",
      "configobj==5.0.6\n",
      "contextlib2==0.5.3\n",
      "coverage==4.5.1\n",
      "cryptography==1.4\n",
      "cycler==0.10.0\n",
      "Cython==0.24\n",
      "cytoolz==0.8.0\n",
      "dask==0.10.0\n",
      "datashape==0.5.2\n",
      "decorator==4.0.10\n",
      "dill==0.2.5\n",
      "docutils==0.12\n",
      "dynd==0.7.3.dev1\n",
      "enum34==1.1.6\n",
      "et-xmlfile==1.0.1\n",
      "fastcache==1.0.2\n",
      "Flask==0.11.1\n",
      "Flask-Cors==2.1.2\n",
      "galileo==0.5.1\n",
      "gast==0.2.0\n",
      "gevent==1.1.1\n",
      "greenlet==0.4.10\n",
      "grpcio==1.13.0\n",
      "h5py==2.6.0\n",
      "HeapDict==1.0.0\n",
      "html5lib==0.9999999\n",
      "hypothesis==3.57.0\n",
      "idna==2.1\n",
      "imagesize==0.7.1\n",
      "ipykernel==4.3.1\n",
      "ipython==4.2.0\n",
      "ipython-genutils==0.1.0\n",
      "ipywidgets==4.1.1\n",
      "itsdangerous==0.24\n",
      "jdcal==1.2\n",
      "jedi==0.9.0\n",
      "Jinja2==2.8\n",
      "jsonschema==2.5.1\n",
      "jupyter==1.0.0\n",
      "jupyter-client==4.3.0\n",
      "jupyter-console==4.1.1\n",
      "jupyter-core==4.1.0\n",
      "Keras==2.2.0\n",
      "Keras-Applications==1.0.2\n",
      "Keras-Preprocessing==1.0.1\n",
      "kiwisolver==1.0.1\n",
      "llvmlite==0.11.0\n",
      "locket==0.2.0\n",
      "lxml==3.6.0\n",
      "Markdown==2.6.11\n",
      "MarkupSafe==0.23\n",
      "matplotlib==2.2.2\n",
      "mistune==0.7.2\n",
      "mpmath==0.19\n",
      "multipledispatch==0.4.8\n",
      "nb-anacondacloud==1.1.0\n",
      "nb-conda==1.1.0\n",
      "nb-conda-kernels==1.0.3\n",
      "nbconvert==4.2.0\n",
      "nbformat==4.0.1\n",
      "nbpresent==3.0.2\n",
      "networkx==1.11\n",
      "nltk==3.2.1\n",
      "nose==1.3.7\n",
      "notebook==4.2.1\n",
      "numba==0.26.0\n",
      "numexpr==2.6.0\n",
      "numpy==1.14.5\n",
      "odo==0.5.0\n",
      "openpyxl==2.3.2\n",
      "pandas==0.23.1\n",
      "partd==0.3.4\n",
      "path.py==0.0.0\n",
      "pathlib2==2.1.0\n",
      "patsy==0.4.1\n",
      "pep8==1.7.0\n",
      "pexpect==4.0.1\n",
      "pickleshare==0.7.2\n",
      "Pillow==5.1.0\n",
      "playsound==1.2.2\n",
      "ply==3.8\n",
      "protobuf==3.6.0\n",
      "psutil==4.3.0\n",
      "ptyprocess==0.5.1\n",
      "py==1.4.31\n",
      "pyasn1==0.1.9\n",
      "pycosat==0.6.1\n",
      "pycparser==2.14\n",
      "pycrypto==2.6.1\n",
      "pycurl==7.43.0\n",
      "pyflakes==1.2.3\n",
      "Pygments==2.1.3\n",
      "pyOpenSSL==16.0.0\n",
      "pyparsing==2.1.4\n",
      "pyroaring==0.1.6\n",
      "pytest==2.9.2\n",
      "python-dateutil==2.5.3\n",
      "pytz==2016.4\n",
      "pyusb==1.0.0\n",
      "PyYAML==3.11\n",
      "pyzmq==15.2.0\n",
      "qtconsole==4.2.1\n",
      "QtPy==1.0.2\n",
      "redis==2.10.5\n",
      "requests==2.10.0\n",
      "rope-py3k==0.9.4.post1\n",
      "ruamel-yaml===-VERSION\n",
      "scikit-image==0.12.3\n",
      "scikit-learn==0.19.1\n",
      "scipy==0.17.1\n",
      "simpleaudio==1.0.1\n",
      "simplegeneric==0.8.1\n",
      "singledispatch==3.4.0.3\n",
      "six==1.10.0\n",
      "sklearn==0.0\n",
      "snowballstemmer==1.2.1\n",
      "sockjs-tornado==1.0.3\n",
      "Sphinx==1.4.1\n",
      "sphinx-rtd-theme==0.1.9\n",
      "spyder==2.3.9\n",
      "SQLAlchemy==1.0.13\n",
      "statsmodels==0.6.1\n",
      "sympy==1.0\n",
      "tables==3.2.2\n",
      "tensorboard==1.8.0\n",
      "tensorflow==1.8.0\n",
      "termcolor==1.1.0\n",
      "terminado==0.6\n",
      "toolz==0.8.0\n",
      "torch==0.4.0\n",
      "torchvision==0.2.1\n",
      "tornado==4.3\n",
      "traitlets==4.2.1\n",
      "unicodecsv==0.14.1\n",
      "Unidecode==1.0.22\n",
      "Werkzeug==0.11.10\n",
      "xlrd==1.0.0\n",
      "XlsxWriter==0.9.2\n",
      "xlwings==0.7.2\n",
      "xlwt==1.1.2\n",
      "z3==0.2.0\n",
      "z3-solver==4.5.1.0.post2\n"
     ]
    },
    {
     "name": "stderr",
     "output_type": "stream",
     "text": [
      "/Users/lemire/.local/lib/python3.5/site-packages/sklearn/cross_validation.py:41: DeprecationWarning: This module was deprecated in version 0.18 in favor of the model_selection module into which all the refactored classes and functions are moved. Also note that the interface of the new CV iterators are different from that of this module. This module will be removed in 0.20.\n",
      "  \"This module will be removed in 0.20.\", DeprecationWarning)\n"
     ]
    }
   ],
   "source": [
    "# Import all I need (boring)\n",
    "import sys\n",
    "!{sys.executable} -m pip install -U --user kiwisolver pandas sklearn matplotlib numpy\n",
    "!{sys.executable} -m pip freeze\n",
    "import os\n",
    "import pandas as pd\n",
    "import numpy as np\n",
    "import matplotlib.pyplot as plt\n",
    "%matplotlib inline\n",
    "from sklearn.cross_validation import train_test_split\n",
    "#from sklearn.model_selection import train_test_split\n",
    "from sklearn.linear_model import LinearRegression\n",
    "from sklearn import metrics"
   ]
  },
  {
   "cell_type": "code",
   "execution_count": 2,
   "metadata": {
    "collapsed": false,
    "nbpresent": {
     "id": "fdcf0856-3b32-4270-b942-131c643bc3d8"
    },
    "slideshow": {
     "slide_type": "slide"
    }
   },
   "outputs": [
    {
     "data": {
      "text/html": [
       "<div>\n",
       "<style scoped>\n",
       "    .dataframe tbody tr th:only-of-type {\n",
       "        vertical-align: middle;\n",
       "    }\n",
       "\n",
       "    .dataframe tbody tr th {\n",
       "        vertical-align: top;\n",
       "    }\n",
       "\n",
       "    .dataframe thead th {\n",
       "        text-align: right;\n",
       "    }\n",
       "</style>\n",
       "<table border=\"1\" class=\"dataframe\">\n",
       "  <thead>\n",
       "    <tr style=\"text-align: right;\">\n",
       "      <th></th>\n",
       "      <th>Secteur</th>\n",
       "      <th>Nom de famille</th>\n",
       "      <th>Prénom</th>\n",
       "      <th>Traitement versé</th>\n",
       "      <th>Avantages imposables</th>\n",
       "      <th>Employeur</th>\n",
       "      <th>Poste</th>\n",
       "      <th>Année civile</th>\n",
       "    </tr>\n",
       "  </thead>\n",
       "  <tbody>\n",
       "    <tr>\n",
       "      <th>0</th>\n",
       "      <td>Autres employeurs du secteur public</td>\n",
       "      <td>Coleridge</td>\n",
       "      <td>Peter</td>\n",
       "      <td>$250,000.00</td>\n",
       "      <td>$25,749.50</td>\n",
       "      <td>Big Brothers Big Sisters of Canada</td>\n",
       "      <td>National President and Chief Executive Officer</td>\n",
       "      <td>2017</td>\n",
       "    </tr>\n",
       "    <tr>\n",
       "      <th>1</th>\n",
       "      <td>Autres employeurs du secteur public</td>\n",
       "      <td>Chater</td>\n",
       "      <td>W. Matthew</td>\n",
       "      <td>$100,877.00</td>\n",
       "      <td>$2,778.27</td>\n",
       "      <td>Big Brothers Big Sisters of Canada</td>\n",
       "      <td>National Vice-President, Service and Organizat...</td>\n",
       "      <td>2017</td>\n",
       "    </tr>\n",
       "    <tr>\n",
       "      <th>2</th>\n",
       "      <td>Autres employeurs du secteur public</td>\n",
       "      <td>Mcintyre</td>\n",
       "      <td>Mary Ellen</td>\n",
       "      <td>$113,847.58</td>\n",
       "      <td>$19,015.00</td>\n",
       "      <td>Centre For Spanish Speaking Peoples</td>\n",
       "      <td>Legal Director</td>\n",
       "      <td>2017</td>\n",
       "    </tr>\n",
       "    <tr>\n",
       "      <th>3</th>\n",
       "      <td>Autres employeurs du secteur public</td>\n",
       "      <td>Marlin</td>\n",
       "      <td>Susan</td>\n",
       "      <td>$248,068.75</td>\n",
       "      <td>$258.48</td>\n",
       "      <td>Clinical Trials Ontario</td>\n",
       "      <td>President and Chief Executive Officer</td>\n",
       "      <td>2017</td>\n",
       "    </tr>\n",
       "    <tr>\n",
       "      <th>4</th>\n",
       "      <td>Autres employeurs du secteur public</td>\n",
       "      <td>Frampton</td>\n",
       "      <td>Peter</td>\n",
       "      <td>$165,033.85</td>\n",
       "      <td>$10,788.30</td>\n",
       "      <td>Learning Enrichment Foundation</td>\n",
       "      <td>Executive Director</td>\n",
       "      <td>2017</td>\n",
       "    </tr>\n",
       "  </tbody>\n",
       "</table>\n",
       "</div>"
      ],
      "text/plain": [
       "                               Secteur Nom de famille      Prénom  \\\n",
       "0  Autres employeurs du secteur public      Coleridge       Peter   \n",
       "1  Autres employeurs du secteur public         Chater  W. Matthew   \n",
       "2  Autres employeurs du secteur public       Mcintyre  Mary Ellen   \n",
       "3  Autres employeurs du secteur public         Marlin       Susan   \n",
       "4  Autres employeurs du secteur public       Frampton       Peter   \n",
       "\n",
       "  Traitement versé Avantages imposables                            Employeur  \\\n",
       "0      $250,000.00           $25,749.50   Big Brothers Big Sisters of Canada   \n",
       "1      $100,877.00            $2,778.27   Big Brothers Big Sisters of Canada   \n",
       "2      $113,847.58           $19,015.00  Centre For Spanish Speaking Peoples   \n",
       "3      $248,068.75              $258.48              Clinical Trials Ontario   \n",
       "4      $165,033.85           $10,788.30       Learning Enrichment Foundation   \n",
       "\n",
       "                                               Poste  Année civile  \n",
       "0     National President and Chief Executive Officer          2017  \n",
       "1  National Vice-President, Service and Organizat...          2017  \n",
       "2                                     Legal Director          2017  \n",
       "3              President and Chief Executive Officer          2017  \n",
       "4                                 Executive Director          2017  "
      ]
     },
     "execution_count": 2,
     "metadata": {},
     "output_type": "execute_result"
    }
   ],
   "source": [
    "dataset = pd.read_csv(\"fr-2017-pssd-compendium-20180320-utf8.csv\")\n",
    "dataset.head(5)\n"
   ]
  },
  {
   "cell_type": "code",
   "execution_count": 3,
   "metadata": {
    "collapsed": false,
    "nbpresent": {
     "id": "4f77ded8-139d-4fa6-9afc-855463858c47"
    },
    "slideshow": {
     "slide_type": "fragment"
    }
   },
   "outputs": [
    {
     "data": {
      "text/plain": [
       "(131741, 8)"
      ]
     },
     "execution_count": 3,
     "metadata": {},
     "output_type": "execute_result"
    }
   ],
   "source": [
    "dataset.shape"
   ]
  },
  {
   "cell_type": "code",
   "execution_count": 4,
   "metadata": {
    "collapsed": true,
    "nbpresent": {
     "id": "83ffd463-5a5a-4a8d-9bc3-9fb24109872d"
    },
    "slideshow": {
     "slide_type": "fragment"
    }
   },
   "outputs": [],
   "source": [
    "dataset[\"salaire\"]=dataset['Traitement versé'].replace( '[\\$,]','', regex=True ).astype(float) + dataset['Avantages imposables'].replace( '[\\$,]','', regex=True ).astype(float)\n",
    "pd.options.display.float_format = '${:,.2f}'.format"
   ]
  },
  {
   "cell_type": "code",
   "execution_count": 5,
   "metadata": {
    "collapsed": false,
    "nbpresent": {
     "id": "8a6b57ee-eb8d-4a8b-b907-d8a5fa511da2"
    },
    "slideshow": {
     "slide_type": "slide"
    }
   },
   "outputs": [
    {
     "data": {
      "text/html": [
       "<div>\n",
       "<style scoped>\n",
       "    .dataframe tbody tr th:only-of-type {\n",
       "        vertical-align: middle;\n",
       "    }\n",
       "\n",
       "    .dataframe tbody tr th {\n",
       "        vertical-align: top;\n",
       "    }\n",
       "\n",
       "    .dataframe thead th {\n",
       "        text-align: right;\n",
       "    }\n",
       "</style>\n",
       "<table border=\"1\" class=\"dataframe\">\n",
       "  <thead>\n",
       "    <tr style=\"text-align: right;\">\n",
       "      <th></th>\n",
       "      <th>salairemean</th>\n",
       "    </tr>\n",
       "    <tr>\n",
       "      <th>Poste</th>\n",
       "      <th></th>\n",
       "    </tr>\n",
       "  </thead>\n",
       "  <tbody>\n",
       "    <tr>\n",
       "      <th>Judge / Juge</th>\n",
       "      <td>$264,654.55</td>\n",
       "    </tr>\n",
       "    <tr>\n",
       "      <th>Counsel / Avocat</th>\n",
       "      <td>$184,329.48</td>\n",
       "    </tr>\n",
       "    <tr>\n",
       "      <th>Assistant Crown Attorney / Procureur adjoint de la Couronne</th>\n",
       "      <td>$178,412.04</td>\n",
       "    </tr>\n",
       "    <tr>\n",
       "      <th>Physician</th>\n",
       "      <td>$178,323.64</td>\n",
       "    </tr>\n",
       "    <tr>\n",
       "      <th>Counsel / Avocate</th>\n",
       "      <td>$176,659.80</td>\n",
       "    </tr>\n",
       "    <tr>\n",
       "      <th>Professeur(e) titulaire / Full Professor</th>\n",
       "      <td>$175,633.09</td>\n",
       "    </tr>\n",
       "    <tr>\n",
       "      <th>First Line Manager, Control/Mechanical</th>\n",
       "      <td>$175,170.29</td>\n",
       "    </tr>\n",
       "    <tr>\n",
       "      <th>Chief Administrative Officer</th>\n",
       "      <td>$173,418.84</td>\n",
       "    </tr>\n",
       "    <tr>\n",
       "      <th>Chief Executive Officer</th>\n",
       "      <td>$172,881.69</td>\n",
       "    </tr>\n",
       "    <tr>\n",
       "      <th>Assistant Crown Attorney / Procureure adjointe de la Couronne</th>\n",
       "      <td>$170,015.89</td>\n",
       "    </tr>\n",
       "  </tbody>\n",
       "</table>\n",
       "</div>"
      ],
      "text/plain": [
       "                                                    salairemean\n",
       "Poste                                                          \n",
       "Judge / Juge                                        $264,654.55\n",
       "Counsel / Avocat                                    $184,329.48\n",
       "Assistant Crown Attorney / Procureur adjoint de...  $178,412.04\n",
       "Physician                                           $178,323.64\n",
       "Counsel / Avocate                                   $176,659.80\n",
       "Professeur(e) titulaire / Full Professor            $175,633.09\n",
       "First Line Manager, Control/Mechanical              $175,170.29\n",
       "Chief Administrative Officer                        $173,418.84\n",
       "Chief Executive Officer                             $172,881.69\n",
       "Assistant Crown Attorney / Procureure adjointe ...  $170,015.89"
      ]
     },
     "execution_count": 5,
     "metadata": {},
     "output_type": "execute_result"
    }
   ],
   "source": [
    "salaireparposte=dataset.groupby(\"Poste\").agg({'salaire':[np.size,np.mean]}).reset_index()\n",
    "salaireparposte=salaireparposte[salaireparposte[(\"salaire\",\"size\")]>200].sort_values((\"salaire\",\"mean\"),ascending=False)\n",
    "salaireparposte.columns = [col[0]+col[1] for col in salaireparposte.columns]\n",
    "salaireparposte.columns\n",
    "salaireparposte[[\"Poste\",\"salairemean\"]]\n",
    "salaireparposte[[\"Poste\",\"salairemean\"]].set_index('Poste').head(10)\n"
   ]
  },
  {
   "cell_type": "code",
   "execution_count": 6,
   "metadata": {
    "collapsed": false,
    "nbpresent": {
     "id": "6ff3ea64-541f-4766-bea4-1e293c6113e9"
    },
    "slideshow": {
     "slide_type": "slide"
    }
   },
   "outputs": [
    {
     "data": {
      "text/html": [
       "<div>\n",
       "<style scoped>\n",
       "    .dataframe tbody tr th:only-of-type {\n",
       "        vertical-align: middle;\n",
       "    }\n",
       "\n",
       "    .dataframe tbody tr th {\n",
       "        vertical-align: top;\n",
       "    }\n",
       "\n",
       "    .dataframe thead th {\n",
       "        text-align: right;\n",
       "    }\n",
       "</style>\n",
       "<table border=\"1\" class=\"dataframe\">\n",
       "  <thead>\n",
       "    <tr style=\"text-align: right;\">\n",
       "      <th></th>\n",
       "      <th>Nom de famille</th>\n",
       "      <th>Employeur</th>\n",
       "      <th>salaire</th>\n",
       "    </tr>\n",
       "  </thead>\n",
       "  <tbody>\n",
       "    <tr>\n",
       "      <th>126061</th>\n",
       "      <td>Ganjavi</td>\n",
       "      <td>Laurentian University of Sudbury</td>\n",
       "      <td>$686,965.86</td>\n",
       "    </tr>\n",
       "    <tr>\n",
       "      <th>129478</th>\n",
       "      <td>Hull</td>\n",
       "      <td>University of Toronto</td>\n",
       "      <td>$465,324.29</td>\n",
       "    </tr>\n",
       "    <tr>\n",
       "      <th>122755</th>\n",
       "      <td>Yusuf</td>\n",
       "      <td>Mcmaster University</td>\n",
       "      <td>$462,846.17</td>\n",
       "    </tr>\n",
       "    <tr>\n",
       "      <th>128612</th>\n",
       "      <td>Christoffersen</td>\n",
       "      <td>University of Toronto</td>\n",
       "      <td>$457,575.56</td>\n",
       "    </tr>\n",
       "    <tr>\n",
       "      <th>130294</th>\n",
       "      <td>Mitchell</td>\n",
       "      <td>University of Toronto</td>\n",
       "      <td>$451,223.87</td>\n",
       "    </tr>\n",
       "    <tr>\n",
       "      <th>131556</th>\n",
       "      <td>Whyte</td>\n",
       "      <td>University of Toronto</td>\n",
       "      <td>$449,973.45</td>\n",
       "    </tr>\n",
       "    <tr>\n",
       "      <th>131210</th>\n",
       "      <td>Strange</td>\n",
       "      <td>University of Toronto</td>\n",
       "      <td>$442,910.28</td>\n",
       "    </tr>\n",
       "    <tr>\n",
       "      <th>128033</th>\n",
       "      <td>Aivazian</td>\n",
       "      <td>University of Toronto</td>\n",
       "      <td>$441,261.26</td>\n",
       "    </tr>\n",
       "    <tr>\n",
       "      <th>130167</th>\n",
       "      <td>Mccurdy</td>\n",
       "      <td>University of Toronto</td>\n",
       "      <td>$436,216.96</td>\n",
       "    </tr>\n",
       "    <tr>\n",
       "      <th>128022</th>\n",
       "      <td>Agrawal</td>\n",
       "      <td>University of Toronto</td>\n",
       "      <td>$428,082.50</td>\n",
       "    </tr>\n",
       "  </tbody>\n",
       "</table>\n",
       "</div>"
      ],
      "text/plain": [
       "        Nom de famille                         Employeur     salaire\n",
       "126061         Ganjavi  Laurentian University of Sudbury $686,965.86\n",
       "129478            Hull             University of Toronto $465,324.29\n",
       "122755           Yusuf               Mcmaster University $462,846.17\n",
       "128612  Christoffersen             University of Toronto $457,575.56\n",
       "130294        Mitchell             University of Toronto $451,223.87\n",
       "131556           Whyte             University of Toronto $449,973.45\n",
       "131210         Strange             University of Toronto $442,910.28\n",
       "128033        Aivazian             University of Toronto $441,261.26\n",
       "130167         Mccurdy             University of Toronto $436,216.96\n",
       "128022         Agrawal             University of Toronto $428,082.50"
      ]
     },
     "execution_count": 6,
     "metadata": {},
     "output_type": "execute_result"
    }
   ],
   "source": [
    "profsalaire = dataset[dataset['Poste'].str.contains(\"Prof\") & ~(dataset['Poste'].str.contains(\"Dean\"))]\n",
    "profsalaire.sort_values(\"salaire\",ascending=False)[[\"Nom de famille\",\"Employeur\",\"salaire\"]].head(10)"
   ]
  },
  {
   "cell_type": "markdown",
   "metadata": {
    "nbpresent": {
     "id": "cfd4f350-e0dc-461d-939e-cd1f53e132dc"
    },
    "slideshow": {
     "slide_type": "slide"
    }
   },
   "source": [
    "Ok. So we have the dataset, but there is no gender identification. Thankfully, there are available statistical models that allow us to categorize first names."
   ]
  },
  {
   "cell_type": "code",
   "execution_count": 7,
   "metadata": {
    "collapsed": false,
    "nbpresent": {
     "id": "5de10d37-67b0-41f3-bb76-060c9dcb5c72"
    },
    "slideshow": {
     "slide_type": "subslide"
    }
   },
   "outputs": [
    {
     "data": {
      "text/html": [
       "<div>\n",
       "<style scoped>\n",
       "    .dataframe tbody tr th:only-of-type {\n",
       "        vertical-align: middle;\n",
       "    }\n",
       "\n",
       "    .dataframe tbody tr th {\n",
       "        vertical-align: top;\n",
       "    }\n",
       "\n",
       "    .dataframe thead th {\n",
       "        text-align: right;\n",
       "    }\n",
       "</style>\n",
       "<table border=\"1\" class=\"dataframe\">\n",
       "  <thead>\n",
       "    <tr style=\"text-align: right;\">\n",
       "      <th></th>\n",
       "      <th>sex</th>\n",
       "      <th>name</th>\n",
       "    </tr>\n",
       "  </thead>\n",
       "  <tbody>\n",
       "    <tr>\n",
       "      <th>0</th>\n",
       "      <td>F</td>\n",
       "      <td>Elaine</td>\n",
       "    </tr>\n",
       "    <tr>\n",
       "      <th>1</th>\n",
       "      <td>F</td>\n",
       "      <td>Cathy</td>\n",
       "    </tr>\n",
       "    <tr>\n",
       "      <th>2</th>\n",
       "      <td>F</td>\n",
       "      <td>Heidi</td>\n",
       "    </tr>\n",
       "    <tr>\n",
       "      <th>3</th>\n",
       "      <td>F</td>\n",
       "      <td>Vicki</td>\n",
       "    </tr>\n",
       "    <tr>\n",
       "      <th>4</th>\n",
       "      <td>F</td>\n",
       "      <td>Melinda</td>\n",
       "    </tr>\n",
       "  </tbody>\n",
       "</table>\n",
       "</div>"
      ],
      "text/plain": [
       "  sex     name\n",
       "0   F   Elaine\n",
       "1   F    Cathy\n",
       "2   F    Heidi\n",
       "3   F    Vicki\n",
       "4   F  Melinda"
      ]
     },
     "execution_count": 7,
     "metadata": {},
     "output_type": "execute_result"
    }
   ],
   "source": [
    "genderstat =  pd.read_csv(\"us-likelihood-of-gender-by-name-in-2014.csv\")\n",
    "genderstat[[\"sex\",\"name\"]].head()"
   ]
  },
  {
   "cell_type": "markdown",
   "metadata": {
    "nbpresent": {
     "id": "fd095675-8b42-4872-ae4b-4fe65d7e637c"
    },
    "slideshow": {
     "slide_type": "slide"
    }
   },
   "source": [
    " But first, let us check that things work as they should:"
   ]
  },
  {
   "cell_type": "code",
   "execution_count": 8,
   "metadata": {
    "collapsed": false,
    "nbpresent": {
     "id": "36f5fa0e-3901-46f2-a8db-160321e47bac"
    },
    "slideshow": {
     "slide_type": "subslide"
    }
   },
   "outputs": [
    {
     "name": "stdout",
     "output_type": "stream",
     "text": [
      "Nathalie F\n",
      "Julie F\n",
      "Pierre M\n",
      "Yves M\n",
      "Daniel M\n",
      "Lohan UNKNOWN\n"
     ]
    }
   ],
   "source": [
    "from unidecode import unidecode \n",
    "def gender_first_name(name):\n",
    "    try: \n",
    "      return genderstat[genderstat['name'].map(lambda x : unidecode(x))==unidecode(name)][[\"sex\"]].values[0][0]\n",
    "    except:\n",
    "      return \"UNKNOWN\"\n",
    "for n in [\"Nathalie\", \"Julie\", \"Pierre\", \"Yves\", \"Daniel\", \"Lohan\"]:\n",
    "    print(n, gender_first_name(n))"
   ]
  },
  {
   "cell_type": "markdown",
   "metadata": {
    "nbpresent": {
     "id": "3afd2c4d-391c-4169-aefa-69d0940e3ed2"
    },
    "slideshow": {
     "slide_type": "slide"
    }
   },
   "source": [
    "Ok. So now we have two tables. What are we going to do to put the data back together? One solution is to use a \"join\"."
   ]
  },
  {
   "cell_type": "markdown",
   "metadata": {
    "nbpresent": {
     "id": "64378f60-0e99-4a04-bf6c-2166fc850f38"
    },
    "slideshow": {
     "slide_type": "slide"
    }
   },
   "source": [
    "We have a 'name' column in one dataset, and now we will create another name column on the other data set, after making sure to trim out accents so that \"Éric\" becomes \"Eric\"."
   ]
  },
  {
   "cell_type": "code",
   "execution_count": 9,
   "metadata": {
    "collapsed": false,
    "nbpresent": {
     "id": "e88635bb-c02c-4535-be21-cc653285e7a1"
    },
    "slideshow": {
     "slide_type": "subslide"
    }
   },
   "outputs": [
    {
     "data": {
      "text/html": [
       "<div>\n",
       "<style scoped>\n",
       "    .dataframe tbody tr th:only-of-type {\n",
       "        vertical-align: middle;\n",
       "    }\n",
       "\n",
       "    .dataframe tbody tr th {\n",
       "        vertical-align: top;\n",
       "    }\n",
       "\n",
       "    .dataframe thead th {\n",
       "        text-align: right;\n",
       "    }\n",
       "</style>\n",
       "<table border=\"1\" class=\"dataframe\">\n",
       "  <thead>\n",
       "    <tr style=\"text-align: right;\">\n",
       "      <th></th>\n",
       "      <th>name</th>\n",
       "      <th>Prénom</th>\n",
       "    </tr>\n",
       "  </thead>\n",
       "  <tbody>\n",
       "    <tr>\n",
       "      <th>0</th>\n",
       "      <td>Peter</td>\n",
       "      <td>Peter</td>\n",
       "    </tr>\n",
       "    <tr>\n",
       "      <th>1</th>\n",
       "      <td>W. Matthew</td>\n",
       "      <td>W. Matthew</td>\n",
       "    </tr>\n",
       "    <tr>\n",
       "      <th>2</th>\n",
       "      <td>Mary Ellen</td>\n",
       "      <td>Mary Ellen</td>\n",
       "    </tr>\n",
       "    <tr>\n",
       "      <th>3</th>\n",
       "      <td>Susan</td>\n",
       "      <td>Susan</td>\n",
       "    </tr>\n",
       "    <tr>\n",
       "      <th>4</th>\n",
       "      <td>Peter</td>\n",
       "      <td>Peter</td>\n",
       "    </tr>\n",
       "    <tr>\n",
       "      <th>5</th>\n",
       "      <td>Therese</td>\n",
       "      <td>Therese</td>\n",
       "    </tr>\n",
       "    <tr>\n",
       "      <th>6</th>\n",
       "      <td>Daniel</td>\n",
       "      <td>Daniel</td>\n",
       "    </tr>\n",
       "    <tr>\n",
       "      <th>7</th>\n",
       "      <td>Deborah</td>\n",
       "      <td>Deborah</td>\n",
       "    </tr>\n",
       "    <tr>\n",
       "      <th>8</th>\n",
       "      <td>Shirley</td>\n",
       "      <td>Shirley</td>\n",
       "    </tr>\n",
       "    <tr>\n",
       "      <th>9</th>\n",
       "      <td>Sue</td>\n",
       "      <td>Sue</td>\n",
       "    </tr>\n",
       "  </tbody>\n",
       "</table>\n",
       "</div>"
      ],
      "text/plain": [
       "         name      Prénom\n",
       "0       Peter       Peter\n",
       "1  W. Matthew  W. Matthew\n",
       "2  Mary Ellen  Mary Ellen\n",
       "3       Susan       Susan\n",
       "4       Peter       Peter\n",
       "5     Therese     Therese\n",
       "6      Daniel      Daniel\n",
       "7     Deborah     Deborah\n",
       "8     Shirley     Shirley\n",
       "9         Sue         Sue"
      ]
     },
     "execution_count": 9,
     "metadata": {},
     "output_type": "execute_result"
    }
   ],
   "source": [
    "from unidecode import unidecode \n",
    "dataset['name'] = dataset['Prénom'].apply(lambda n : unidecode(n) )\n",
    "dataset[['name','Prénom']].head(10)"
   ]
  },
  {
   "cell_type": "code",
   "execution_count": 10,
   "metadata": {
    "collapsed": false,
    "nbpresent": {
     "id": "0f1ed89d-8416-4f95-8fd2-6942155dcad2"
    },
    "slideshow": {
     "slide_type": "slide"
    }
   },
   "outputs": [],
   "source": [
    "datasetwithgender=pd.merge(dataset,genderstat,on=\"name\")"
   ]
  },
  {
   "cell_type": "code",
   "execution_count": 11,
   "metadata": {
    "collapsed": false,
    "nbpresent": {
     "id": "dc6bd4dd-1cfb-4b22-a350-aaf1f247a6b0"
    },
    "slideshow": {
     "slide_type": "subslide"
    }
   },
   "outputs": [
    {
     "data": {
      "text/plain": [
       "sex\n",
       "F    43315\n",
       "M    58417\n",
       "dtype: int64"
      ]
     },
     "execution_count": 11,
     "metadata": {},
     "output_type": "execute_result"
    }
   ],
   "source": [
    "datasetwithgender.groupby(\"sex\").size()"
   ]
  },
  {
   "cell_type": "code",
   "execution_count": 12,
   "metadata": {
    "collapsed": false,
    "nbpresent": {
     "id": "168c806f-ffff-43d4-ae94-2da0fe49d832"
    },
    "slideshow": {
     "slide_type": "skip"
    }
   },
   "outputs": [
    {
     "data": {
      "text/html": [
       "<div>\n",
       "<style scoped>\n",
       "    .dataframe tbody tr th:only-of-type {\n",
       "        vertical-align: middle;\n",
       "    }\n",
       "\n",
       "    .dataframe tbody tr th {\n",
       "        vertical-align: top;\n",
       "    }\n",
       "\n",
       "    .dataframe thead th {\n",
       "        text-align: right;\n",
       "    }\n",
       "</style>\n",
       "<table border=\"1\" class=\"dataframe\">\n",
       "  <thead>\n",
       "    <tr style=\"text-align: right;\">\n",
       "      <th></th>\n",
       "      <th>sex</th>\n",
       "      <th>name</th>\n",
       "      <th>salaire</th>\n",
       "    </tr>\n",
       "  </thead>\n",
       "  <tbody>\n",
       "    <tr>\n",
       "      <th>0</th>\n",
       "      <td>M</td>\n",
       "      <td>Peter</td>\n",
       "      <td>$275,749.50</td>\n",
       "    </tr>\n",
       "    <tr>\n",
       "      <th>1</th>\n",
       "      <td>M</td>\n",
       "      <td>Peter</td>\n",
       "      <td>$175,822.15</td>\n",
       "    </tr>\n",
       "    <tr>\n",
       "      <th>2</th>\n",
       "      <td>M</td>\n",
       "      <td>Peter</td>\n",
       "      <td>$146,616.00</td>\n",
       "    </tr>\n",
       "    <tr>\n",
       "      <th>3</th>\n",
       "      <td>M</td>\n",
       "      <td>Peter</td>\n",
       "      <td>$123,581.91</td>\n",
       "    </tr>\n",
       "    <tr>\n",
       "      <th>4</th>\n",
       "      <td>M</td>\n",
       "      <td>Peter</td>\n",
       "      <td>$205,269.03</td>\n",
       "    </tr>\n",
       "  </tbody>\n",
       "</table>\n",
       "</div>"
      ],
      "text/plain": [
       "  sex   name     salaire\n",
       "0   M  Peter $275,749.50\n",
       "1   M  Peter $175,822.15\n",
       "2   M  Peter $146,616.00\n",
       "3   M  Peter $123,581.91\n",
       "4   M  Peter $205,269.03"
      ]
     },
     "execution_count": 12,
     "metadata": {},
     "output_type": "execute_result"
    }
   ],
   "source": [
    "datasetwithgender[[\"sex\",\"name\",\"salaire\"]].head(5)\n"
   ]
  },
  {
   "cell_type": "code",
   "execution_count": 13,
   "metadata": {
    "collapsed": false,
    "nbpresent": {
     "id": "191f750f-3aab-42c2-8a8a-092b05413fd4"
    },
    "slideshow": {
     "slide_type": "slide"
    }
   },
   "outputs": [
    {
     "data": {
      "text/html": [
       "<div>\n",
       "<style scoped>\n",
       "    .dataframe tbody tr th:only-of-type {\n",
       "        vertical-align: middle;\n",
       "    }\n",
       "\n",
       "    .dataframe tbody tr th {\n",
       "        vertical-align: top;\n",
       "    }\n",
       "\n",
       "    .dataframe thead th {\n",
       "        text-align: right;\n",
       "    }\n",
       "</style>\n",
       "<table border=\"1\" class=\"dataframe\">\n",
       "  <thead>\n",
       "    <tr style=\"text-align: right;\">\n",
       "      <th></th>\n",
       "      <th>salaire</th>\n",
       "    </tr>\n",
       "    <tr>\n",
       "      <th>sex</th>\n",
       "      <th></th>\n",
       "    </tr>\n",
       "  </thead>\n",
       "  <tbody>\n",
       "    <tr>\n",
       "      <th>F</th>\n",
       "      <td>$123,879.68</td>\n",
       "    </tr>\n",
       "    <tr>\n",
       "      <th>M</th>\n",
       "      <td>$130,332.61</td>\n",
       "    </tr>\n",
       "  </tbody>\n",
       "</table>\n",
       "</div>"
      ],
      "text/plain": [
       "        salaire\n",
       "sex            \n",
       "F   $123,879.68\n",
       "M   $130,332.61"
      ]
     },
     "execution_count": 13,
     "metadata": {},
     "output_type": "execute_result"
    }
   ],
   "source": [
    "datasetwithgender.groupby(\"sex\").agg({'salaire':np.mean})"
   ]
  },
  {
   "cell_type": "code",
   "execution_count": 14,
   "metadata": {
    "collapsed": false,
    "nbpresent": {
     "id": "a487fb86-4638-49dc-9aa5-ebfe060ecd4e"
    },
    "slideshow": {
     "slide_type": "subslide"
    }
   },
   "outputs": [
    {
     "data": {
      "text/html": [
       "<div>\n",
       "<style scoped>\n",
       "    .dataframe tbody tr th:only-of-type {\n",
       "        vertical-align: middle;\n",
       "    }\n",
       "\n",
       "    .dataframe tbody tr th {\n",
       "        vertical-align: top;\n",
       "    }\n",
       "\n",
       "    .dataframe thead th {\n",
       "        text-align: right;\n",
       "    }\n",
       "</style>\n",
       "<table border=\"1\" class=\"dataframe\">\n",
       "  <thead>\n",
       "    <tr style=\"text-align: right;\">\n",
       "      <th></th>\n",
       "      <th>salaire</th>\n",
       "    </tr>\n",
       "    <tr>\n",
       "      <th>sex</th>\n",
       "      <th></th>\n",
       "    </tr>\n",
       "  </thead>\n",
       "  <tbody>\n",
       "    <tr>\n",
       "      <th>F</th>\n",
       "      <td>$745,268.93</td>\n",
       "    </tr>\n",
       "    <tr>\n",
       "      <th>M</th>\n",
       "      <td>$1,561,320.95</td>\n",
       "    </tr>\n",
       "  </tbody>\n",
       "</table>\n",
       "</div>"
      ],
      "text/plain": [
       "          salaire\n",
       "sex              \n",
       "F     $745,268.93\n",
       "M   $1,561,320.95"
      ]
     },
     "execution_count": 14,
     "metadata": {},
     "output_type": "execute_result"
    }
   ],
   "source": [
    "datasetwithgender.groupby(\"sex\").agg({'salaire':np.max})"
   ]
  },
  {
   "cell_type": "code",
   "execution_count": 15,
   "metadata": {
    "collapsed": true,
    "nbpresent": {
     "id": "a90a9835-0597-4034-9518-12263db40706"
    },
    "slideshow": {
     "slide_type": "slide"
    }
   },
   "outputs": [],
   "source": [
    "waterlooprofessor = datasetwithgender[(datasetwithgender[\"Employeur\"]==\"University of Waterloo\")\n",
    "                                      &(datasetwithgender[\"Poste\"].str.contains(\"Professor\"))]"
   ]
  },
  {
   "cell_type": "code",
   "execution_count": 16,
   "metadata": {
    "collapsed": false,
    "nbpresent": {
     "id": "8c8d9315-cb30-442a-acf3-304328941648"
    },
    "slideshow": {
     "slide_type": "subslide"
    }
   },
   "outputs": [
    {
     "data": {
      "text/html": [
       "<div>\n",
       "<style scoped>\n",
       "    .dataframe tbody tr th:only-of-type {\n",
       "        vertical-align: middle;\n",
       "    }\n",
       "\n",
       "    .dataframe tbody tr th {\n",
       "        vertical-align: top;\n",
       "    }\n",
       "\n",
       "    .dataframe thead th {\n",
       "        text-align: right;\n",
       "    }\n",
       "</style>\n",
       "<table border=\"1\" class=\"dataframe\">\n",
       "  <thead>\n",
       "    <tr style=\"text-align: right;\">\n",
       "      <th></th>\n",
       "      <th>salaire</th>\n",
       "    </tr>\n",
       "    <tr>\n",
       "      <th>sex</th>\n",
       "      <th></th>\n",
       "    </tr>\n",
       "  </thead>\n",
       "  <tbody>\n",
       "    <tr>\n",
       "      <th>F</th>\n",
       "      <td>$148,147.25</td>\n",
       "    </tr>\n",
       "    <tr>\n",
       "      <th>M</th>\n",
       "      <td>$162,915.72</td>\n",
       "    </tr>\n",
       "  </tbody>\n",
       "</table>\n",
       "</div>"
      ],
      "text/plain": [
       "        salaire\n",
       "sex            \n",
       "F   $148,147.25\n",
       "M   $162,915.72"
      ]
     },
     "execution_count": 16,
     "metadata": {},
     "output_type": "execute_result"
    }
   ],
   "source": [
    "waterlooprofessor.groupby(\"sex\").agg({'salaire':np.mean})"
   ]
  },
  {
   "cell_type": "code",
   "execution_count": 17,
   "metadata": {
    "collapsed": false,
    "nbpresent": {
     "id": "fa51797b-f485-44f0-a5f3-a32298b8f666"
    },
    "slideshow": {
     "slide_type": "subslide"
    }
   },
   "outputs": [
    {
     "data": {
      "text/html": [
       "<div>\n",
       "<style scoped>\n",
       "    .dataframe tbody tr th:only-of-type {\n",
       "        vertical-align: middle;\n",
       "    }\n",
       "\n",
       "    .dataframe tbody tr th {\n",
       "        vertical-align: top;\n",
       "    }\n",
       "\n",
       "    .dataframe thead th {\n",
       "        text-align: right;\n",
       "    }\n",
       "</style>\n",
       "<table border=\"1\" class=\"dataframe\">\n",
       "  <thead>\n",
       "    <tr style=\"text-align: right;\">\n",
       "      <th></th>\n",
       "      <th>salaire</th>\n",
       "    </tr>\n",
       "    <tr>\n",
       "      <th>sex</th>\n",
       "      <th></th>\n",
       "    </tr>\n",
       "  </thead>\n",
       "  <tbody>\n",
       "    <tr>\n",
       "      <th>F</th>\n",
       "      <td>$239,653.34</td>\n",
       "    </tr>\n",
       "    <tr>\n",
       "      <th>M</th>\n",
       "      <td>$317,514.10</td>\n",
       "    </tr>\n",
       "  </tbody>\n",
       "</table>\n",
       "</div>"
      ],
      "text/plain": [
       "        salaire\n",
       "sex            \n",
       "F   $239,653.34\n",
       "M   $317,514.10"
      ]
     },
     "execution_count": 17,
     "metadata": {},
     "output_type": "execute_result"
    }
   ],
   "source": [
    "waterlooprofessor.groupby(\"sex\").agg({'salaire':np.max})"
   ]
  },
  {
   "cell_type": "code",
   "execution_count": 18,
   "metadata": {
    "collapsed": false,
    "nbpresent": {
     "id": "9ad913ef-c3b2-447d-a528-61cb3fcc6722"
    },
    "slideshow": {
     "slide_type": "slide"
    }
   },
   "outputs": [
    {
     "data": {
      "text/html": [
       "<div>\n",
       "<style scoped>\n",
       "    .dataframe tbody tr th:only-of-type {\n",
       "        vertical-align: middle;\n",
       "    }\n",
       "\n",
       "    .dataframe tbody tr th {\n",
       "        vertical-align: top;\n",
       "    }\n",
       "\n",
       "    .dataframe thead th {\n",
       "        text-align: right;\n",
       "    }\n",
       "</style>\n",
       "<table border=\"1\" class=\"dataframe\">\n",
       "  <thead>\n",
       "    <tr style=\"text-align: right;\">\n",
       "      <th></th>\n",
       "      <th>name</th>\n",
       "      <th>sex</th>\n",
       "      <th>salaire</th>\n",
       "    </tr>\n",
       "  </thead>\n",
       "  <tbody>\n",
       "    <tr>\n",
       "      <th>796</th>\n",
       "      <td>Peter</td>\n",
       "      <td>M</td>\n",
       "      <td>$185,750.40</td>\n",
       "    </tr>\n",
       "    <tr>\n",
       "      <th>797</th>\n",
       "      <td>Peter</td>\n",
       "      <td>M</td>\n",
       "      <td>$153,990.13</td>\n",
       "    </tr>\n",
       "    <tr>\n",
       "      <th>798</th>\n",
       "      <td>Peter</td>\n",
       "      <td>M</td>\n",
       "      <td>$153,903.36</td>\n",
       "    </tr>\n",
       "    <tr>\n",
       "      <th>800</th>\n",
       "      <td>Peter</td>\n",
       "      <td>M</td>\n",
       "      <td>$179,153.60</td>\n",
       "    </tr>\n",
       "    <tr>\n",
       "      <th>801</th>\n",
       "      <td>Peter</td>\n",
       "      <td>M</td>\n",
       "      <td>$185,766.00</td>\n",
       "    </tr>\n",
       "  </tbody>\n",
       "</table>\n",
       "</div>"
      ],
      "text/plain": [
       "      name sex     salaire\n",
       "796  Peter   M $185,750.40\n",
       "797  Peter   M $153,990.13\n",
       "798  Peter   M $153,903.36\n",
       "800  Peter   M $179,153.60\n",
       "801  Peter   M $185,766.00"
      ]
     },
     "execution_count": 18,
     "metadata": {},
     "output_type": "execute_result"
    }
   ],
   "source": [
    "ottawaprofessor = datasetwithgender[(datasetwithgender[\"Employeur\"]==\"University of Ottawa\")\n",
    "                                      &(datasetwithgender[\"Poste\"].str.contains(\"Professeur\"))]\n",
    "ottawaprofessor[['name','sex',\"salaire\"]].head(5)"
   ]
  },
  {
   "cell_type": "code",
   "execution_count": 19,
   "metadata": {
    "collapsed": false,
    "nbpresent": {
     "id": "b89a9b85-39cc-4250-9035-277bb5593692"
    },
    "slideshow": {
     "slide_type": "subslide"
    }
   },
   "outputs": [
    {
     "data": {
      "text/html": [
       "<div>\n",
       "<style scoped>\n",
       "    .dataframe tbody tr th:only-of-type {\n",
       "        vertical-align: middle;\n",
       "    }\n",
       "\n",
       "    .dataframe tbody tr th {\n",
       "        vertical-align: top;\n",
       "    }\n",
       "\n",
       "    .dataframe thead th {\n",
       "        text-align: right;\n",
       "    }\n",
       "</style>\n",
       "<table border=\"1\" class=\"dataframe\">\n",
       "  <thead>\n",
       "    <tr style=\"text-align: right;\">\n",
       "      <th></th>\n",
       "      <th>salaire</th>\n",
       "    </tr>\n",
       "    <tr>\n",
       "      <th>sex</th>\n",
       "      <th></th>\n",
       "    </tr>\n",
       "  </thead>\n",
       "  <tbody>\n",
       "    <tr>\n",
       "      <th>F</th>\n",
       "      <td>$147,084.86</td>\n",
       "    </tr>\n",
       "    <tr>\n",
       "      <th>M</th>\n",
       "      <td>$156,445.92</td>\n",
       "    </tr>\n",
       "  </tbody>\n",
       "</table>\n",
       "</div>"
      ],
      "text/plain": [
       "        salaire\n",
       "sex            \n",
       "F   $147,084.86\n",
       "M   $156,445.92"
      ]
     },
     "execution_count": 19,
     "metadata": {},
     "output_type": "execute_result"
    }
   ],
   "source": [
    "ottawaprofessor.groupby(\"sex\").agg({'salaire':np.mean})"
   ]
  },
  {
   "cell_type": "code",
   "execution_count": 20,
   "metadata": {
    "collapsed": false,
    "nbpresent": {
     "id": "43f6bd04-d9f3-4405-a848-b8fb396dcb1d"
    },
    "slideshow": {
     "slide_type": "subslide"
    }
   },
   "outputs": [
    {
     "data": {
      "text/html": [
       "<div>\n",
       "<style scoped>\n",
       "    .dataframe tbody tr th:only-of-type {\n",
       "        vertical-align: middle;\n",
       "    }\n",
       "\n",
       "    .dataframe tbody tr th {\n",
       "        vertical-align: top;\n",
       "    }\n",
       "\n",
       "    .dataframe thead th {\n",
       "        text-align: right;\n",
       "    }\n",
       "</style>\n",
       "<table border=\"1\" class=\"dataframe\">\n",
       "  <thead>\n",
       "    <tr style=\"text-align: right;\">\n",
       "      <th></th>\n",
       "      <th>salaire</th>\n",
       "    </tr>\n",
       "    <tr>\n",
       "      <th>sex</th>\n",
       "      <th></th>\n",
       "    </tr>\n",
       "  </thead>\n",
       "  <tbody>\n",
       "    <tr>\n",
       "      <th>F</th>\n",
       "      <td>$237,641.00</td>\n",
       "    </tr>\n",
       "    <tr>\n",
       "      <th>M</th>\n",
       "      <td>$260,765.92</td>\n",
       "    </tr>\n",
       "  </tbody>\n",
       "</table>\n",
       "</div>"
      ],
      "text/plain": [
       "        salaire\n",
       "sex            \n",
       "F   $237,641.00\n",
       "M   $260,765.92"
      ]
     },
     "execution_count": 20,
     "metadata": {},
     "output_type": "execute_result"
    }
   ],
   "source": [
    "ottawaprofessor.groupby(\"sex\").agg({'salaire':np.max})"
   ]
  },
  {
   "cell_type": "code",
   "execution_count": null,
   "metadata": {
    "collapsed": true,
    "nbpresent": {
     "id": "943039e9-b672-4613-8a0d-67e5408fc1d5"
    }
   },
   "outputs": [],
   "source": []
  }
 ],
 "metadata": {
  "anaconda-cloud": {},
  "celltoolbar": "Slideshow",
  "kernelspec": {
   "display_name": "Python [Root]",
   "language": "python",
   "name": "Python [Root]"
  },
  "language_info": {
   "codemirror_mode": {
    "name": "ipython",
    "version": 3
   },
   "file_extension": ".py",
   "mimetype": "text/x-python",
   "name": "python",
   "nbconvert_exporter": "python",
   "pygments_lexer": "ipython3",
   "version": "3.5.2"
  },
  "nbpresent": {
   "slides": {
    "0177751d-1131-4f6b-824c-3a78ba697ceb": {
     "id": "0177751d-1131-4f6b-824c-3a78ba697ceb",
     "prev": "6635ee27-2318-40e4-a41a-201ed62a801f",
     "regions": {
      "1ad51e17-dd7d-496a-a6c9-d74d870bc5af": {
       "attrs": {
        "height": 0.8,
        "width": 0.8,
        "x": 0.1,
        "y": 0.1
       },
       "content": {
        "cell": "43f6bd04-d9f3-4405-a848-b8fb396dcb1d",
        "part": "whole"
       },
       "id": "1ad51e17-dd7d-496a-a6c9-d74d870bc5af"
      }
     }
    },
    "0743314d-fbfe-4811-8726-f801199d1a8b": {
     "id": "0743314d-fbfe-4811-8726-f801199d1a8b",
     "prev": "3ee2b224-17e3-45b7-bcb2-64a29ae87e03",
     "regions": {
      "15ebdad5-0a55-4c50-8de6-012f68e043ae": {
       "attrs": {
        "height": 0.8,
        "width": 0.8,
        "x": 0.1,
        "y": 0.1
       },
       "content": {
        "cell": "4f77ded8-139d-4fa6-9afc-855463858c47",
        "part": "whole"
       },
       "id": "15ebdad5-0a55-4c50-8de6-012f68e043ae"
      }
     }
    },
    "0d385e20-59c5-4620-b851-e6a4f09880ed": {
     "id": "0d385e20-59c5-4620-b851-e6a4f09880ed",
     "prev": "0743314d-fbfe-4811-8726-f801199d1a8b",
     "regions": {
      "ace1c563-f817-47a4-af41-ce73c3664863": {
       "attrs": {
        "height": 0.8,
        "width": 0.8,
        "x": 0.1,
        "y": 0.1
       },
       "content": {
        "cell": "83ffd463-5a5a-4a8d-9bc3-9fb24109872d",
        "part": "whole"
       },
       "id": "ace1c563-f817-47a4-af41-ce73c3664863"
      }
     }
    },
    "106b47de-f4f2-49e5-bd09-f29a541cf3ab": {
     "id": "106b47de-f4f2-49e5-bd09-f29a541cf3ab",
     "prev": "852ce1db-c7f4-49cf-8232-3a263f125298",
     "regions": {
      "33c93761-3610-4bac-b20b-8b88f41aaf7d": {
       "attrs": {
        "height": 0.8,
        "width": 0.8,
        "x": 0.1,
        "y": 0.1
       },
       "content": {
        "cell": "a487fb86-4638-49dc-9aa5-ebfe060ecd4e",
        "part": "whole"
       },
       "id": "33c93761-3610-4bac-b20b-8b88f41aaf7d"
      }
     }
    },
    "363d745e-837e-4267-b31b-013b74bea3a9": {
     "id": "363d745e-837e-4267-b31b-013b74bea3a9",
     "prev": "ab466796-1971-4ccc-bd3c-fa865ec117b8",
     "regions": {
      "2584e991-07f4-4cdb-984a-dbfc4ce3bf19": {
       "attrs": {
        "height": 0.8,
        "width": 0.8,
        "x": 0.1,
        "y": 0.1
       },
       "content": {
        "cell": "b3a3a1a8-3e09-4b3c-afcb-4c5fdae97ae0",
        "part": "whole"
       },
       "id": "2584e991-07f4-4cdb-984a-dbfc4ce3bf19"
      }
     }
    },
    "3ee2b224-17e3-45b7-bcb2-64a29ae87e03": {
     "id": "3ee2b224-17e3-45b7-bcb2-64a29ae87e03",
     "prev": "363d745e-837e-4267-b31b-013b74bea3a9",
     "regions": {
      "0bef0487-e97e-4424-b798-fcb52e0cbc84": {
       "attrs": {
        "height": 0.8,
        "width": 0.8,
        "x": 0.1,
        "y": 0.1
       },
       "content": {
        "cell": "fdcf0856-3b32-4270-b942-131c643bc3d8",
        "part": "whole"
       },
       "id": "0bef0487-e97e-4424-b798-fcb52e0cbc84"
      }
     }
    },
    "47f38109-f95d-4d50-ad79-2c6a1dde64ad": {
     "id": "47f38109-f95d-4d50-ad79-2c6a1dde64ad",
     "prev": "d71ea1df-e5ac-4438-a5c6-5cc13de848ae",
     "regions": {
      "2c0e576f-3a5a-42e7-bd49-34fab29a4934": {
       "attrs": {
        "height": 0.8,
        "width": 0.8,
        "x": 0.1,
        "y": 0.1
       },
       "content": {
        "cell": "168c806f-ffff-43d4-ae94-2da0fe49d832",
        "part": "whole"
       },
       "id": "2c0e576f-3a5a-42e7-bd49-34fab29a4934"
      }
     }
    },
    "4ba17d4e-e5cc-4e3d-ad1a-59662c921ef9": {
     "id": "4ba17d4e-e5cc-4e3d-ad1a-59662c921ef9",
     "prev": "bcfeafe2-bb33-488b-9e05-0772cf6ae5da",
     "regions": {
      "86c7f96a-dffa-4d68-b64c-285ea36e8b4b": {
       "attrs": {
        "height": 0.8,
        "width": 0.8,
        "x": 0.1,
        "y": 0.1
       },
       "content": {
        "cell": "3afd2c4d-391c-4169-aefa-69d0940e3ed2",
        "part": "whole"
       },
       "id": "86c7f96a-dffa-4d68-b64c-285ea36e8b4b"
      }
     }
    },
    "5752afcd-ad8f-4cb0-b349-174a4c238e41": {
     "id": "5752afcd-ad8f-4cb0-b349-174a4c238e41",
     "prev": "47f38109-f95d-4d50-ad79-2c6a1dde64ad",
     "regions": {
      "9de4eb98-7386-4c6e-8bef-a58e070beb05": {
       "attrs": {
        "height": 0.8,
        "width": 0.8,
        "x": 0.1,
        "y": 0.1
       },
       "content": {
        "cell": "d721366b-cc08-4810-ade8-39cd1576ca43",
        "part": "whole"
       },
       "id": "9de4eb98-7386-4c6e-8bef-a58e070beb05"
      }
     }
    },
    "6291c207-492a-417d-9902-795c16aecbdc": {
     "id": "6291c207-492a-417d-9902-795c16aecbdc",
     "prev": "ebd6fe98-da54-4a5b-8625-d9c250526f91",
     "regions": {
      "e32f9058-1af2-4e7c-bedf-40246b2e2338": {
       "attrs": {
        "height": 0.8,
        "width": 0.8,
        "x": 0.1,
        "y": 0.1
       },
       "content": {
        "cell": "0f1ed89d-8416-4f95-8fd2-6942155dcad2",
        "part": "whole"
       },
       "id": "e32f9058-1af2-4e7c-bedf-40246b2e2338"
      }
     }
    },
    "6635ee27-2318-40e4-a41a-201ed62a801f": {
     "id": "6635ee27-2318-40e4-a41a-201ed62a801f",
     "prev": "f4c79300-b051-4835-9586-474859514a6a",
     "regions": {
      "ea300c9c-e424-48db-96e9-acccb7460e0d": {
       "attrs": {
        "height": 0.8,
        "width": 0.8,
        "x": 0.1,
        "y": 0.1
       },
       "content": {
        "cell": "b89a9b85-39cc-4250-9035-277bb5593692",
        "part": "whole"
       },
       "id": "ea300c9c-e424-48db-96e9-acccb7460e0d"
      }
     }
    },
    "745b762c-b449-4788-9334-46d65f47acbc": {
     "id": "745b762c-b449-4788-9334-46d65f47acbc",
     "prev": "b6992e3a-415e-4856-83bd-5b657f0ea23f",
     "regions": {
      "1925d466-2ede-4ab0-8fe8-ec7f39d6eb1f": {
       "attrs": {
        "height": 0.8,
        "width": 0.8,
        "x": 0.1,
        "y": 0.1
       },
       "content": {
        "cell": "8c8d9315-cb30-442a-acf3-304328941648",
        "part": "whole"
       },
       "id": "1925d466-2ede-4ab0-8fe8-ec7f39d6eb1f"
      }
     }
    },
    "852ce1db-c7f4-49cf-8232-3a263f125298": {
     "id": "852ce1db-c7f4-49cf-8232-3a263f125298",
     "prev": "5752afcd-ad8f-4cb0-b349-174a4c238e41",
     "regions": {
      "6e3c95d9-d514-43ef-8c9a-e27d0fd3ea9d": {
       "attrs": {
        "height": 0.8,
        "width": 0.8,
        "x": 0.1,
        "y": 0.1
       },
       "content": {
        "cell": "191f750f-3aab-42c2-8a8a-092b05413fd4",
        "part": "whole"
       },
       "id": "6e3c95d9-d514-43ef-8c9a-e27d0fd3ea9d"
      }
     }
    },
    "8e4d190d-1a08-4e74-957a-e96bdf7fbaf4": {
     "id": "8e4d190d-1a08-4e74-957a-e96bdf7fbaf4",
     "prev": "bbb6cb9b-5cc2-4cff-80a2-027eb860bd71",
     "regions": {
      "0b816b53-b74b-4b21-a319-8ac92b0cfb6b": {
       "attrs": {
        "height": 0.8,
        "width": 0.8,
        "x": 0.1,
        "y": 0.1
       },
       "content": {
        "cell": "cfd4f350-e0dc-461d-939e-cd1f53e132dc",
        "part": "whole"
       },
       "id": "0b816b53-b74b-4b21-a319-8ac92b0cfb6b"
      }
     }
    },
    "9389e65e-c3f8-4995-beaf-7dec39b4edd9": {
     "id": "9389e65e-c3f8-4995-beaf-7dec39b4edd9",
     "prev": "8e4d190d-1a08-4e74-957a-e96bdf7fbaf4",
     "regions": {
      "ae537bab-eb2a-492f-a0be-3b0b9cb86ef9": {
       "attrs": {
        "height": 0.8,
        "width": 0.8,
        "x": 0.1,
        "y": 0.1
       },
       "content": {
        "cell": "5de10d37-67b0-41f3-bb76-060c9dcb5c72",
        "part": "whole"
       },
       "id": "ae537bab-eb2a-492f-a0be-3b0b9cb86ef9"
      }
     }
    },
    "a21bb47d-c174-438c-850f-895fdc6ccc17": {
     "id": "a21bb47d-c174-438c-850f-895fdc6ccc17",
     "prev": "745b762c-b449-4788-9334-46d65f47acbc",
     "regions": {
      "dee5cb03-7796-4592-bb1e-ff40202f1137": {
       "attrs": {
        "height": 0.8,
        "width": 0.8,
        "x": 0.1,
        "y": 0.1
       },
       "content": {
        "cell": "fa51797b-f485-44f0-a5f3-a32298b8f666",
        "part": "whole"
       },
       "id": "dee5cb03-7796-4592-bb1e-ff40202f1137"
      }
     }
    },
    "ab466796-1971-4ccc-bd3c-fa865ec117b8": {
     "id": "ab466796-1971-4ccc-bd3c-fa865ec117b8",
     "prev": null,
     "regions": {
      "81e00764-9f77-4350-b03d-c813ef5a88b4": {
       "attrs": {
        "height": 0.8,
        "width": 0.8,
        "x": 0.1,
        "y": 0.1
       },
       "content": {
        "cell": "126c5a88-ab32-4c59-8d87-0cfc029d55c7",
        "part": "whole"
       },
       "id": "81e00764-9f77-4350-b03d-c813ef5a88b4"
      }
     }
    },
    "abea4f01-34ff-4cb3-80c8-0999adb231df": {
     "id": "abea4f01-34ff-4cb3-80c8-0999adb231df",
     "prev": "0177751d-1131-4f6b-824c-3a78ba697ceb",
     "regions": {
      "ef256d5d-b4c4-42ab-9b20-470dfafeafea": {
       "attrs": {
        "height": 0.8,
        "width": 0.8,
        "x": 0.1,
        "y": 0.1
       },
       "content": {
        "cell": "943039e9-b672-4613-8a0d-67e5408fc1d5",
        "part": "whole"
       },
       "id": "ef256d5d-b4c4-42ab-9b20-470dfafeafea"
      }
     }
    },
    "b6992e3a-415e-4856-83bd-5b657f0ea23f": {
     "id": "b6992e3a-415e-4856-83bd-5b657f0ea23f",
     "prev": "106b47de-f4f2-49e5-bd09-f29a541cf3ab",
     "regions": {
      "156036cf-cb9a-4e2a-9274-e2f0d1befad0": {
       "attrs": {
        "height": 0.8,
        "width": 0.8,
        "x": 0.1,
        "y": 0.1
       },
       "content": {
        "cell": "a90a9835-0597-4034-9518-12263db40706",
        "part": "whole"
       },
       "id": "156036cf-cb9a-4e2a-9274-e2f0d1befad0"
      }
     }
    },
    "bbb6cb9b-5cc2-4cff-80a2-027eb860bd71": {
     "id": "bbb6cb9b-5cc2-4cff-80a2-027eb860bd71",
     "prev": "cffbf8d5-5861-4802-af66-7006a49b93e3",
     "regions": {
      "c78333ca-a170-42b0-b6b9-ab065e3a3b06": {
       "attrs": {
        "height": 0.8,
        "width": 0.8,
        "x": 0.1,
        "y": 0.1
       },
       "content": {
        "cell": "6ff3ea64-541f-4766-bea4-1e293c6113e9",
        "part": "whole"
       },
       "id": "c78333ca-a170-42b0-b6b9-ab065e3a3b06"
      }
     }
    },
    "bcfeafe2-bb33-488b-9e05-0772cf6ae5da": {
     "id": "bcfeafe2-bb33-488b-9e05-0772cf6ae5da",
     "prev": "daf8611f-2c91-47d7-9e5c-6a0fc94147bf",
     "regions": {
      "c055e553-9cdd-401d-a907-43234a9c2cfa": {
       "attrs": {
        "height": 0.8,
        "width": 0.8,
        "x": 0.1,
        "y": 0.1
       },
       "content": {
        "cell": "36f5fa0e-3901-46f2-a8db-160321e47bac",
        "part": "whole"
       },
       "id": "c055e553-9cdd-401d-a907-43234a9c2cfa"
      }
     }
    },
    "cffbf8d5-5861-4802-af66-7006a49b93e3": {
     "id": "cffbf8d5-5861-4802-af66-7006a49b93e3",
     "prev": "0d385e20-59c5-4620-b851-e6a4f09880ed",
     "regions": {
      "93da5ed2-8005-4760-8952-626d2b49545f": {
       "attrs": {
        "height": 0.8,
        "width": 0.8,
        "x": 0.1,
        "y": 0.1
       },
       "content": {
        "cell": "8a6b57ee-eb8d-4a8b-b907-d8a5fa511da2",
        "part": "whole"
       },
       "id": "93da5ed2-8005-4760-8952-626d2b49545f"
      }
     }
    },
    "d3770a3f-7410-4034-b617-3a75920be816": {
     "id": "d3770a3f-7410-4034-b617-3a75920be816",
     "prev": "4ba17d4e-e5cc-4e3d-ad1a-59662c921ef9",
     "regions": {
      "a1383e79-a563-4f25-9535-b7b28257e0eb": {
       "attrs": {
        "height": 0.8,
        "width": 0.8,
        "x": 0.1,
        "y": 0.1
       },
       "content": {
        "cell": "64378f60-0e99-4a04-bf6c-2166fc850f38",
        "part": "whole"
       },
       "id": "a1383e79-a563-4f25-9535-b7b28257e0eb"
      }
     }
    },
    "d71ea1df-e5ac-4438-a5c6-5cc13de848ae": {
     "id": "d71ea1df-e5ac-4438-a5c6-5cc13de848ae",
     "prev": "6291c207-492a-417d-9902-795c16aecbdc",
     "regions": {
      "1c280e34-4532-42ec-8835-c24b311c3c46": {
       "attrs": {
        "height": 0.8,
        "width": 0.8,
        "x": 0.1,
        "y": 0.1
       },
       "content": {
        "cell": "dc6bd4dd-1cfb-4b22-a350-aaf1f247a6b0",
        "part": "whole"
       },
       "id": "1c280e34-4532-42ec-8835-c24b311c3c46"
      }
     }
    },
    "daf8611f-2c91-47d7-9e5c-6a0fc94147bf": {
     "id": "daf8611f-2c91-47d7-9e5c-6a0fc94147bf",
     "prev": "9389e65e-c3f8-4995-beaf-7dec39b4edd9",
     "regions": {
      "3d4ccfc3-c8d6-4802-9fea-52ba8a1d6b3b": {
       "attrs": {
        "height": 0.8,
        "width": 0.8,
        "x": 0.1,
        "y": 0.1
       },
       "content": {
        "cell": "fd095675-8b42-4872-ae4b-4fe65d7e637c",
        "part": "whole"
       },
       "id": "3d4ccfc3-c8d6-4802-9fea-52ba8a1d6b3b"
      }
     }
    },
    "ebd6fe98-da54-4a5b-8625-d9c250526f91": {
     "id": "ebd6fe98-da54-4a5b-8625-d9c250526f91",
     "prev": "d3770a3f-7410-4034-b617-3a75920be816",
     "regions": {
      "2d28d79d-74bf-4456-a425-bf1fa0eb5f56": {
       "attrs": {
        "height": 0.8,
        "width": 0.8,
        "x": 0.1,
        "y": 0.1
       },
       "content": {
        "cell": "e88635bb-c02c-4535-be21-cc653285e7a1",
        "part": "whole"
       },
       "id": "2d28d79d-74bf-4456-a425-bf1fa0eb5f56"
      }
     }
    },
    "f4c79300-b051-4835-9586-474859514a6a": {
     "id": "f4c79300-b051-4835-9586-474859514a6a",
     "prev": "a21bb47d-c174-438c-850f-895fdc6ccc17",
     "regions": {
      "b500791d-877a-4d8e-905c-1e9d323ca62f": {
       "attrs": {
        "height": 0.8,
        "width": 0.8,
        "x": 0.1,
        "y": 0.1
       },
       "content": {
        "cell": "9ad913ef-c3b2-447d-a528-61cb3fcc6722",
        "part": "whole"
       },
       "id": "b500791d-877a-4d8e-905c-1e9d323ca62f"
      }
     }
    }
   },
   "themes": {}
  }
 },
 "nbformat": 4,
 "nbformat_minor": 0
}

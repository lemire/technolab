{
 "cells": [
  {
   "cell_type": "markdown",
   "metadata": {
    "nbpresent": {
     "id": "126c5a88-ab32-4c59-8d87-0cfc029d55c7"
    },
    "slideshow": {
     "slide_type": "slide"
    }
   },
   "source": [
    "## Do men earn more than women?\n",
    "\n",
    "\n",
    "It is often reported that women earn more than men. The Ontario government (in Canada) reports the salary of all public-sector employees making more than a given amount. This data is freely available."
   ]
  },
  {
   "cell_type": "code",
   "execution_count": 1,
   "metadata": {
    "nbpresent": {
     "id": "b3a3a1a8-3e09-4b3c-afcb-4c5fdae97ae0"
    },
    "slideshow": {
     "slide_type": "skip"
    }
   },
   "outputs": [
    {
     "name": "stderr",
     "output_type": "stream",
     "text": [
      "/anaconda3/lib/python3.6/site-packages/sklearn/cross_validation.py:41: DeprecationWarning: This module was deprecated in version 0.18 in favor of the model_selection module into which all the refactored classes and functions are moved. Also note that the interface of the new CV iterators are different from that of this module. This module will be removed in 0.20.\n",
      "  \"This module will be removed in 0.20.\", DeprecationWarning)\n"
     ]
    }
   ],
   "source": [
    "# Import all I need (boring)\n",
    "import sys\n",
    "# uncomment if you are missing packages\n",
    "#!{sys.executable} -m pip install --upgrade --force-reinstall  unidecode msgpack kiwisolver pandas sklearn matplotlib numpy\n",
    "#!{sys.executable} -m pip freeze\n",
    "import os\n",
    "import pandas as pd\n",
    "import numpy as np\n",
    "import matplotlib.pyplot as plt\n",
    "%matplotlib inline\n",
    "from sklearn.cross_validation import train_test_split\n",
    "#from sklearn.model_selection import train_test_split\n",
    "from sklearn.linear_model import LinearRegression\n",
    "from sklearn import metrics"
   ]
  },
  {
   "cell_type": "code",
   "execution_count": 2,
   "metadata": {
    "nbpresent": {
     "id": "fdcf0856-3b32-4270-b942-131c643bc3d8"
    },
    "scrolled": true,
    "slideshow": {
     "slide_type": "slide"
    }
   },
   "outputs": [
    {
     "data": {
      "text/html": [
       "<div>\n",
       "<style scoped>\n",
       "    .dataframe tbody tr th:only-of-type {\n",
       "        vertical-align: middle;\n",
       "    }\n",
       "\n",
       "    .dataframe tbody tr th {\n",
       "        vertical-align: top;\n",
       "    }\n",
       "\n",
       "    .dataframe thead th {\n",
       "        text-align: right;\n",
       "    }\n",
       "</style>\n",
       "<table border=\"1\" class=\"dataframe\">\n",
       "  <thead>\n",
       "    <tr style=\"text-align: right;\">\n",
       "      <th></th>\n",
       "      <th>Secteur</th>\n",
       "      <th>Nom de famille</th>\n",
       "      <th>Prénom</th>\n",
       "      <th>Traitement versé</th>\n",
       "      <th>Avantages imposables</th>\n",
       "      <th>Employeur</th>\n",
       "      <th>Poste</th>\n",
       "      <th>Année civile</th>\n",
       "    </tr>\n",
       "  </thead>\n",
       "  <tbody>\n",
       "    <tr>\n",
       "      <th>0</th>\n",
       "      <td>Autres employeurs du secteur public</td>\n",
       "      <td>Coleridge</td>\n",
       "      <td>Peter</td>\n",
       "      <td>$250,000.00</td>\n",
       "      <td>$25,749.50</td>\n",
       "      <td>Big Brothers Big Sisters of Canada</td>\n",
       "      <td>National President and Chief Executive Officer</td>\n",
       "      <td>2017</td>\n",
       "    </tr>\n",
       "    <tr>\n",
       "      <th>1</th>\n",
       "      <td>Autres employeurs du secteur public</td>\n",
       "      <td>Chater</td>\n",
       "      <td>W. Matthew</td>\n",
       "      <td>$100,877.00</td>\n",
       "      <td>$2,778.27</td>\n",
       "      <td>Big Brothers Big Sisters of Canada</td>\n",
       "      <td>National Vice-President, Service and Organizat...</td>\n",
       "      <td>2017</td>\n",
       "    </tr>\n",
       "    <tr>\n",
       "      <th>2</th>\n",
       "      <td>Autres employeurs du secteur public</td>\n",
       "      <td>Mcintyre</td>\n",
       "      <td>Mary Ellen</td>\n",
       "      <td>$113,847.58</td>\n",
       "      <td>$19,015.00</td>\n",
       "      <td>Centre For Spanish Speaking Peoples</td>\n",
       "      <td>Legal Director</td>\n",
       "      <td>2017</td>\n",
       "    </tr>\n",
       "    <tr>\n",
       "      <th>3</th>\n",
       "      <td>Autres employeurs du secteur public</td>\n",
       "      <td>Marlin</td>\n",
       "      <td>Susan</td>\n",
       "      <td>$248,068.75</td>\n",
       "      <td>$258.48</td>\n",
       "      <td>Clinical Trials Ontario</td>\n",
       "      <td>President and Chief Executive Officer</td>\n",
       "      <td>2017</td>\n",
       "    </tr>\n",
       "    <tr>\n",
       "      <th>4</th>\n",
       "      <td>Autres employeurs du secteur public</td>\n",
       "      <td>Frampton</td>\n",
       "      <td>Peter</td>\n",
       "      <td>$165,033.85</td>\n",
       "      <td>$10,788.30</td>\n",
       "      <td>Learning Enrichment Foundation</td>\n",
       "      <td>Executive Director</td>\n",
       "      <td>2017</td>\n",
       "    </tr>\n",
       "  </tbody>\n",
       "</table>\n",
       "</div>"
      ],
      "text/plain": [
       "                               Secteur Nom de famille      Prénom  \\\n",
       "0  Autres employeurs du secteur public      Coleridge       Peter   \n",
       "1  Autres employeurs du secteur public         Chater  W. Matthew   \n",
       "2  Autres employeurs du secteur public       Mcintyre  Mary Ellen   \n",
       "3  Autres employeurs du secteur public         Marlin       Susan   \n",
       "4  Autres employeurs du secteur public       Frampton       Peter   \n",
       "\n",
       "  Traitement versé Avantages imposables                            Employeur  \\\n",
       "0      $250,000.00           $25,749.50   Big Brothers Big Sisters of Canada   \n",
       "1      $100,877.00            $2,778.27   Big Brothers Big Sisters of Canada   \n",
       "2      $113,847.58           $19,015.00  Centre For Spanish Speaking Peoples   \n",
       "3      $248,068.75              $258.48              Clinical Trials Ontario   \n",
       "4      $165,033.85           $10,788.30       Learning Enrichment Foundation   \n",
       "\n",
       "                                               Poste  Année civile  \n",
       "0     National President and Chief Executive Officer          2017  \n",
       "1  National Vice-President, Service and Organizat...          2017  \n",
       "2                                     Legal Director          2017  \n",
       "3              President and Chief Executive Officer          2017  \n",
       "4                                 Executive Director          2017  "
      ]
     },
     "execution_count": 2,
     "metadata": {},
     "output_type": "execute_result"
    }
   ],
   "source": [
    "dataset = pd.read_csv(\"fr-2017-pssd-compendium-20180320-utf8.csv\")\n",
    "dataset.head(5)\n"
   ]
  },
  {
   "cell_type": "markdown",
   "metadata": {},
   "source": [
    "How many people do we have? About 130 thousands."
   ]
  },
  {
   "cell_type": "code",
   "execution_count": 3,
   "metadata": {
    "nbpresent": {
     "id": "4f77ded8-139d-4fa6-9afc-855463858c47"
    },
    "slideshow": {
     "slide_type": "fragment"
    }
   },
   "outputs": [
    {
     "data": {
      "text/plain": [
       "(131741, 8)"
      ]
     },
     "execution_count": 3,
     "metadata": {},
     "output_type": "execute_result"
    }
   ],
   "source": [
    "dataset.shape"
   ]
  },
  {
   "cell_type": "markdown",
   "metadata": {},
   "source": [
    "It looks good but the file contains numbers as \"$113,847.58\". It is not recognized by Python as a number. So we need to remove the '$' and the ',' before we can parse it as a number. So we call the \"replace\" function."
   ]
  },
  {
   "cell_type": "code",
   "execution_count": 4,
   "metadata": {
    "nbpresent": {
     "id": "83ffd463-5a5a-4a8d-9bc3-9fb24109872d"
    },
    "slideshow": {
     "slide_type": "fragment"
    }
   },
   "outputs": [],
   "source": [
    "dataset[\"salaire\"]=dataset['Traitement versé'].replace( '[\\$,]','', regex=True ).astype(float) + dataset['Avantages imposables'].replace( '[\\$,]','', regex=True ).astype(float)\n",
    "pd.options.display.float_format = '${:,.2f}'.format"
   ]
  },
  {
   "cell_type": "code",
   "execution_count": 5,
   "metadata": {
    "nbpresent": {
     "id": "8a6b57ee-eb8d-4a8b-b907-d8a5fa511da2"
    },
    "slideshow": {
     "slide_type": "slide"
    }
   },
   "outputs": [
    {
     "data": {
      "text/plain": [
       "<matplotlib.axes._subplots.AxesSubplot at 0x10d24c240>"
      ]
     },
     "execution_count": 5,
     "metadata": {},
     "output_type": "execute_result"
    },
    {
     "data": {
      "image/png": "[encoded data removed]",
      "text/plain": [
       "<Figure size 432x288 with 1 Axes>"
      ]
     },
     "metadata": {},
     "output_type": "display_data"
    }
   ],
   "source": [
    "salaireparposte=dataset.groupby(\"Poste\").agg({'salaire':[np.size,np.mean]}).reset_index()\n",
    "salaireparposte=salaireparposte[salaireparposte[(\"salaire\",\"size\")]>200].sort_values((\"salaire\",\"mean\"),ascending=False)\n",
    "salaireparposte.columns = [col[0]+col[1] for col in salaireparposte.columns]\n",
    "\n",
    "salaireparposte[[\"Poste\",\"salairemean\"]].set_index('Poste').head(10).plot.bar()\n"
   ]
  },
  {
   "cell_type": "code",
   "execution_count": 6,
   "metadata": {},
   "outputs": [
    {
     "data": {
      "text/html": [
       "<div>\n",
       "<style scoped>\n",
       "    .dataframe tbody tr th:only-of-type {\n",
       "        vertical-align: middle;\n",
       "    }\n",
       "\n",
       "    .dataframe tbody tr th {\n",
       "        vertical-align: top;\n",
       "    }\n",
       "\n",
       "    .dataframe thead th {\n",
       "        text-align: right;\n",
       "    }\n",
       "</style>\n",
       "<table border=\"1\" class=\"dataframe\">\n",
       "  <thead>\n",
       "    <tr style=\"text-align: right;\">\n",
       "      <th></th>\n",
       "      <th>Secteur</th>\n",
       "      <th>Nom de famille</th>\n",
       "      <th>Prénom</th>\n",
       "      <th>Traitement versé</th>\n",
       "      <th>Avantages imposables</th>\n",
       "      <th>Employeur</th>\n",
       "      <th>Poste</th>\n",
       "      <th>Année civile</th>\n",
       "      <th>salaire</th>\n",
       "    </tr>\n",
       "  </thead>\n",
       "  <tbody>\n",
       "    <tr>\n",
       "      <th>0</th>\n",
       "      <td>Autres employeurs du secteur public</td>\n",
       "      <td>Coleridge</td>\n",
       "      <td>Peter</td>\n",
       "      <td>$250,000.00</td>\n",
       "      <td>$25,749.50</td>\n",
       "      <td>Big Brothers Big Sisters of Canada</td>\n",
       "      <td>National President and Chief Executive Officer</td>\n",
       "      <td>2017</td>\n",
       "      <td>$275,749.50</td>\n",
       "    </tr>\n",
       "    <tr>\n",
       "      <th>1</th>\n",
       "      <td>Autres employeurs du secteur public</td>\n",
       "      <td>Chater</td>\n",
       "      <td>W. Matthew</td>\n",
       "      <td>$100,877.00</td>\n",
       "      <td>$2,778.27</td>\n",
       "      <td>Big Brothers Big Sisters of Canada</td>\n",
       "      <td>National Vice-President, Service and Organizat...</td>\n",
       "      <td>2017</td>\n",
       "      <td>$103,655.27</td>\n",
       "    </tr>\n",
       "    <tr>\n",
       "      <th>2</th>\n",
       "      <td>Autres employeurs du secteur public</td>\n",
       "      <td>Mcintyre</td>\n",
       "      <td>Mary Ellen</td>\n",
       "      <td>$113,847.58</td>\n",
       "      <td>$19,015.00</td>\n",
       "      <td>Centre For Spanish Speaking Peoples</td>\n",
       "      <td>Legal Director</td>\n",
       "      <td>2017</td>\n",
       "      <td>$132,862.58</td>\n",
       "    </tr>\n",
       "    <tr>\n",
       "      <th>3</th>\n",
       "      <td>Autres employeurs du secteur public</td>\n",
       "      <td>Marlin</td>\n",
       "      <td>Susan</td>\n",
       "      <td>$248,068.75</td>\n",
       "      <td>$258.48</td>\n",
       "      <td>Clinical Trials Ontario</td>\n",
       "      <td>President and Chief Executive Officer</td>\n",
       "      <td>2017</td>\n",
       "      <td>$248,327.23</td>\n",
       "    </tr>\n",
       "    <tr>\n",
       "      <th>4</th>\n",
       "      <td>Autres employeurs du secteur public</td>\n",
       "      <td>Frampton</td>\n",
       "      <td>Peter</td>\n",
       "      <td>$165,033.85</td>\n",
       "      <td>$10,788.30</td>\n",
       "      <td>Learning Enrichment Foundation</td>\n",
       "      <td>Executive Director</td>\n",
       "      <td>2017</td>\n",
       "      <td>$175,822.15</td>\n",
       "    </tr>\n",
       "  </tbody>\n",
       "</table>\n",
       "</div>"
      ],
      "text/plain": [
       "                               Secteur Nom de famille      Prénom  \\\n",
       "0  Autres employeurs du secteur public      Coleridge       Peter   \n",
       "1  Autres employeurs du secteur public         Chater  W. Matthew   \n",
       "2  Autres employeurs du secteur public       Mcintyre  Mary Ellen   \n",
       "3  Autres employeurs du secteur public         Marlin       Susan   \n",
       "4  Autres employeurs du secteur public       Frampton       Peter   \n",
       "\n",
       "  Traitement versé Avantages imposables                            Employeur  \\\n",
       "0      $250,000.00           $25,749.50   Big Brothers Big Sisters of Canada   \n",
       "1      $100,877.00            $2,778.27   Big Brothers Big Sisters of Canada   \n",
       "2      $113,847.58           $19,015.00  Centre For Spanish Speaking Peoples   \n",
       "3      $248,068.75              $258.48              Clinical Trials Ontario   \n",
       "4      $165,033.85           $10,788.30       Learning Enrichment Foundation   \n",
       "\n",
       "                                               Poste  Année civile     salaire  \n",
       "0     National President and Chief Executive Officer          2017 $275,749.50  \n",
       "1  National Vice-President, Service and Organizat...          2017 $103,655.27  \n",
       "2                                     Legal Director          2017 $132,862.58  \n",
       "3              President and Chief Executive Officer          2017 $248,327.23  \n",
       "4                                 Executive Director          2017 $175,822.15  "
      ]
     },
     "execution_count": 6,
     "metadata": {},
     "output_type": "execute_result"
    }
   ],
   "source": [
    "dataset.head(5)"
   ]
  },
  {
   "cell_type": "code",
   "execution_count": 7,
   "metadata": {},
   "outputs": [
    {
     "data": {
      "text/plain": [
       "<matplotlib.axes._subplots.AxesSubplot at 0x10e393320>"
      ]
     },
     "execution_count": 7,
     "metadata": {},
     "output_type": "execute_result"
    },
    {
     "data": {
      "image/png": "[encoded data removed]",
      "text/plain": [
       "<Figure size 432x288 with 1 Axes>"
      ]
     },
     "metadata": {},
     "output_type": "display_data"
    }
   ],
   "source": [
    "salaireparposte=dataset.groupby(\"Poste\").agg({'salaire':[np.size,np.max]}).reset_index()\n",
    "salaireparposte=salaireparposte[salaireparposte[(\"salaire\",\"size\")]>200].sort_values((\"salaire\",\"amax\"),ascending=False)\n",
    "salaireparposte.columns = [col[0]+col[1] for col in salaireparposte.columns]\n",
    "\n",
    "salaireparposte[[\"Poste\",\"salaireamax\"]].set_index('Poste').head(10).plot.bar()\n",
    "\n"
   ]
  },
  {
   "cell_type": "code",
   "execution_count": 8,
   "metadata": {
    "nbpresent": {
     "id": "6ff3ea64-541f-4766-bea4-1e293c6113e9"
    },
    "slideshow": {
     "slide_type": "slide"
    }
   },
   "outputs": [
    {
     "data": {
      "text/html": [
       "<div>\n",
       "<style scoped>\n",
       "    .dataframe tbody tr th:only-of-type {\n",
       "        vertical-align: middle;\n",
       "    }\n",
       "\n",
       "    .dataframe tbody tr th {\n",
       "        vertical-align: top;\n",
       "    }\n",
       "\n",
       "    .dataframe thead th {\n",
       "        text-align: right;\n",
       "    }\n",
       "</style>\n",
       "<table border=\"1\" class=\"dataframe\">\n",
       "  <thead>\n",
       "    <tr style=\"text-align: right;\">\n",
       "      <th></th>\n",
       "      <th>Nom de famille</th>\n",
       "      <th>Employeur</th>\n",
       "      <th>salaire</th>\n",
       "    </tr>\n",
       "  </thead>\n",
       "  <tbody>\n",
       "    <tr>\n",
       "      <th>126061</th>\n",
       "      <td>Ganjavi</td>\n",
       "      <td>Laurentian University of Sudbury</td>\n",
       "      <td>$686,965.86</td>\n",
       "    </tr>\n",
       "    <tr>\n",
       "      <th>129478</th>\n",
       "      <td>Hull</td>\n",
       "      <td>University of Toronto</td>\n",
       "      <td>$465,324.29</td>\n",
       "    </tr>\n",
       "    <tr>\n",
       "      <th>122755</th>\n",
       "      <td>Yusuf</td>\n",
       "      <td>Mcmaster University</td>\n",
       "      <td>$462,846.17</td>\n",
       "    </tr>\n",
       "    <tr>\n",
       "      <th>128612</th>\n",
       "      <td>Christoffersen</td>\n",
       "      <td>University of Toronto</td>\n",
       "      <td>$457,575.56</td>\n",
       "    </tr>\n",
       "    <tr>\n",
       "      <th>130294</th>\n",
       "      <td>Mitchell</td>\n",
       "      <td>University of Toronto</td>\n",
       "      <td>$451,223.87</td>\n",
       "    </tr>\n",
       "    <tr>\n",
       "      <th>131556</th>\n",
       "      <td>Whyte</td>\n",
       "      <td>University of Toronto</td>\n",
       "      <td>$449,973.45</td>\n",
       "    </tr>\n",
       "    <tr>\n",
       "      <th>131210</th>\n",
       "      <td>Strange</td>\n",
       "      <td>University of Toronto</td>\n",
       "      <td>$442,910.28</td>\n",
       "    </tr>\n",
       "    <tr>\n",
       "      <th>128033</th>\n",
       "      <td>Aivazian</td>\n",
       "      <td>University of Toronto</td>\n",
       "      <td>$441,261.26</td>\n",
       "    </tr>\n",
       "    <tr>\n",
       "      <th>130167</th>\n",
       "      <td>Mccurdy</td>\n",
       "      <td>University of Toronto</td>\n",
       "      <td>$436,216.96</td>\n",
       "    </tr>\n",
       "    <tr>\n",
       "      <th>128022</th>\n",
       "      <td>Agrawal</td>\n",
       "      <td>University of Toronto</td>\n",
       "      <td>$428,082.50</td>\n",
       "    </tr>\n",
       "    <tr>\n",
       "      <th>131125</th>\n",
       "      <td>Soman</td>\n",
       "      <td>University of Toronto</td>\n",
       "      <td>$424,189.00</td>\n",
       "    </tr>\n",
       "    <tr>\n",
       "      <th>130566</th>\n",
       "      <td>Pauly</td>\n",
       "      <td>University of Toronto</td>\n",
       "      <td>$420,790.32</td>\n",
       "    </tr>\n",
       "    <tr>\n",
       "      <th>128207</th>\n",
       "      <td>Baum</td>\n",
       "      <td>University of Toronto</td>\n",
       "      <td>$419,325.79</td>\n",
       "    </tr>\n",
       "    <tr>\n",
       "      <th>129319</th>\n",
       "      <td>Han</td>\n",
       "      <td>University of Toronto</td>\n",
       "      <td>$414,077.12</td>\n",
       "    </tr>\n",
       "    <tr>\n",
       "      <th>122398</th>\n",
       "      <td>Panju</td>\n",
       "      <td>Mcmaster University</td>\n",
       "      <td>$413,113.36</td>\n",
       "    </tr>\n",
       "    <tr>\n",
       "      <th>129384</th>\n",
       "      <td>Hejazi</td>\n",
       "      <td>University of Toronto</td>\n",
       "      <td>$408,842.06</td>\n",
       "    </tr>\n",
       "    <tr>\n",
       "      <th>130946</th>\n",
       "      <td>Schneider</td>\n",
       "      <td>University of Toronto</td>\n",
       "      <td>$405,333.81</td>\n",
       "    </tr>\n",
       "    <tr>\n",
       "      <th>129056</th>\n",
       "      <td>Florida</td>\n",
       "      <td>University of Toronto</td>\n",
       "      <td>$405,251.64</td>\n",
       "    </tr>\n",
       "    <tr>\n",
       "      <th>131115</th>\n",
       "      <td>Soberman</td>\n",
       "      <td>University of Toronto</td>\n",
       "      <td>$403,905.40</td>\n",
       "    </tr>\n",
       "    <tr>\n",
       "      <th>130912</th>\n",
       "      <td>Sargent</td>\n",
       "      <td>University of Toronto</td>\n",
       "      <td>$398,555.70</td>\n",
       "    </tr>\n",
       "    <tr>\n",
       "      <th>130838</th>\n",
       "      <td>Rotenberg</td>\n",
       "      <td>University of Toronto</td>\n",
       "      <td>$397,091.80</td>\n",
       "    </tr>\n",
       "    <tr>\n",
       "      <th>129209</th>\n",
       "      <td>Goldreich</td>\n",
       "      <td>University of Toronto</td>\n",
       "      <td>$396,211.12</td>\n",
       "    </tr>\n",
       "    <tr>\n",
       "      <th>121811</th>\n",
       "      <td>Crowther</td>\n",
       "      <td>Mcmaster University</td>\n",
       "      <td>$395,275.80</td>\n",
       "    </tr>\n",
       "    <tr>\n",
       "      <th>130281</th>\n",
       "      <td>Misak</td>\n",
       "      <td>University of Toronto</td>\n",
       "      <td>$392,167.74</td>\n",
       "    </tr>\n",
       "    <tr>\n",
       "      <th>131056</th>\n",
       "      <td>Silverman</td>\n",
       "      <td>University of Toronto</td>\n",
       "      <td>$389,464.62</td>\n",
       "    </tr>\n",
       "    <tr>\n",
       "      <th>113669</th>\n",
       "      <td>Woolf</td>\n",
       "      <td>Queen's University</td>\n",
       "      <td>$386,629.92</td>\n",
       "    </tr>\n",
       "    <tr>\n",
       "      <th>113936</th>\n",
       "      <td>Levin</td>\n",
       "      <td>Queen's University</td>\n",
       "      <td>$384,121.88</td>\n",
       "    </tr>\n",
       "    <tr>\n",
       "      <th>128908</th>\n",
       "      <td>Dyck</td>\n",
       "      <td>University of Toronto</td>\n",
       "      <td>$384,073.10</td>\n",
       "    </tr>\n",
       "    <tr>\n",
       "      <th>129129</th>\n",
       "      <td>Gans</td>\n",
       "      <td>University of Toronto</td>\n",
       "      <td>$384,064.68</td>\n",
       "    </tr>\n",
       "    <tr>\n",
       "      <th>130414</th>\n",
       "      <td>Naylor</td>\n",
       "      <td>University of Toronto</td>\n",
       "      <td>$381,503.40</td>\n",
       "    </tr>\n",
       "    <tr>\n",
       "      <th>...</th>\n",
       "      <td>...</td>\n",
       "      <td>...</td>\n",
       "      <td>...</td>\n",
       "    </tr>\n",
       "    <tr>\n",
       "      <th>51052</th>\n",
       "      <td>Alexopoulou</td>\n",
       "      <td>Hamilton Health Sciences</td>\n",
       "      <td>$336,130.62</td>\n",
       "    </tr>\n",
       "    <tr>\n",
       "      <th>120573</th>\n",
       "      <td>Foerster</td>\n",
       "      <td>University of Western Ontario</td>\n",
       "      <td>$335,005.50</td>\n",
       "    </tr>\n",
       "    <tr>\n",
       "      <th>122390</th>\n",
       "      <td>Orovan</td>\n",
       "      <td>Mcmaster University</td>\n",
       "      <td>$334,696.70</td>\n",
       "    </tr>\n",
       "    <tr>\n",
       "      <th>129942</th>\n",
       "      <td>Li</td>\n",
       "      <td>University of Toronto</td>\n",
       "      <td>$332,684.88</td>\n",
       "    </tr>\n",
       "    <tr>\n",
       "      <th>129566</th>\n",
       "      <td>John</td>\n",
       "      <td>University of Toronto</td>\n",
       "      <td>$332,475.30</td>\n",
       "    </tr>\n",
       "    <tr>\n",
       "      <th>128666</th>\n",
       "      <td>Collingridge</td>\n",
       "      <td>University of Toronto</td>\n",
       "      <td>$331,715.52</td>\n",
       "    </tr>\n",
       "    <tr>\n",
       "      <th>120271</th>\n",
       "      <td>Bansal</td>\n",
       "      <td>University of Western Ontario</td>\n",
       "      <td>$331,338.76</td>\n",
       "    </tr>\n",
       "    <tr>\n",
       "      <th>113769</th>\n",
       "      <td>Anger</td>\n",
       "      <td>Queen's University</td>\n",
       "      <td>$330,174.28</td>\n",
       "    </tr>\n",
       "    <tr>\n",
       "      <th>130328</th>\n",
       "      <td>Moorthy</td>\n",
       "      <td>University of Toronto</td>\n",
       "      <td>$329,902.14</td>\n",
       "    </tr>\n",
       "    <tr>\n",
       "      <th>121784</th>\n",
       "      <td>Collins</td>\n",
       "      <td>Mcmaster University</td>\n",
       "      <td>$329,506.26</td>\n",
       "    </tr>\n",
       "    <tr>\n",
       "      <th>131071</th>\n",
       "      <td>Simutin</td>\n",
       "      <td>University of Toronto</td>\n",
       "      <td>$329,392.79</td>\n",
       "    </tr>\n",
       "    <tr>\n",
       "      <th>128343</th>\n",
       "      <td>Bova</td>\n",
       "      <td>University of Toronto</td>\n",
       "      <td>$328,917.44</td>\n",
       "    </tr>\n",
       "    <tr>\n",
       "      <th>124575</th>\n",
       "      <td>Madhok</td>\n",
       "      <td>York University</td>\n",
       "      <td>$328,501.08</td>\n",
       "    </tr>\n",
       "    <tr>\n",
       "      <th>122442</th>\n",
       "      <td>Price</td>\n",
       "      <td>Mcmaster University</td>\n",
       "      <td>$327,852.73</td>\n",
       "    </tr>\n",
       "    <tr>\n",
       "      <th>128332</th>\n",
       "      <td>Booth</td>\n",
       "      <td>University of Toronto</td>\n",
       "      <td>$327,368.44</td>\n",
       "    </tr>\n",
       "    <tr>\n",
       "      <th>120294</th>\n",
       "      <td>Beamish</td>\n",
       "      <td>University of Western Ontario</td>\n",
       "      <td>$326,990.74</td>\n",
       "    </tr>\n",
       "    <tr>\n",
       "      <th>130406</th>\n",
       "      <td>Najm</td>\n",
       "      <td>University of Toronto</td>\n",
       "      <td>$325,777.62</td>\n",
       "    </tr>\n",
       "    <tr>\n",
       "      <th>131348</th>\n",
       "      <td>Tombak</td>\n",
       "      <td>University of Toronto</td>\n",
       "      <td>$325,155.89</td>\n",
       "    </tr>\n",
       "    <tr>\n",
       "      <th>130784</th>\n",
       "      <td>Ripstein</td>\n",
       "      <td>University of Toronto</td>\n",
       "      <td>$325,116.12</td>\n",
       "    </tr>\n",
       "    <tr>\n",
       "      <th>124511</th>\n",
       "      <td>Levesque</td>\n",
       "      <td>York University</td>\n",
       "      <td>$323,129.04</td>\n",
       "    </tr>\n",
       "    <tr>\n",
       "      <th>121273</th>\n",
       "      <td>Sapp</td>\n",
       "      <td>University of Western Ontario</td>\n",
       "      <td>$322,940.92</td>\n",
       "    </tr>\n",
       "    <tr>\n",
       "      <th>121845</th>\n",
       "      <td>Denburg</td>\n",
       "      <td>Mcmaster University</td>\n",
       "      <td>$322,786.03</td>\n",
       "    </tr>\n",
       "    <tr>\n",
       "      <th>129227</th>\n",
       "      <td>Gotlieb</td>\n",
       "      <td>University of Toronto</td>\n",
       "      <td>$322,649.48</td>\n",
       "    </tr>\n",
       "    <tr>\n",
       "      <th>120811</th>\n",
       "      <td>Kim</td>\n",
       "      <td>University of Western Ontario</td>\n",
       "      <td>$321,444.96</td>\n",
       "    </tr>\n",
       "    <tr>\n",
       "      <th>130772</th>\n",
       "      <td>Richardson</td>\n",
       "      <td>University of Toronto</td>\n",
       "      <td>$321,395.34</td>\n",
       "    </tr>\n",
       "    <tr>\n",
       "      <th>120370</th>\n",
       "      <td>Busaba</td>\n",
       "      <td>University of Western Ontario</td>\n",
       "      <td>$320,882.58</td>\n",
       "    </tr>\n",
       "    <tr>\n",
       "      <th>129493</th>\n",
       "      <td>Hyatt</td>\n",
       "      <td>University of Toronto</td>\n",
       "      <td>$320,876.09</td>\n",
       "    </tr>\n",
       "    <tr>\n",
       "      <th>131170</th>\n",
       "      <td>Stein</td>\n",
       "      <td>University of Toronto</td>\n",
       "      <td>$320,327.48</td>\n",
       "    </tr>\n",
       "    <tr>\n",
       "      <th>127366</th>\n",
       "      <td>Elayan</td>\n",
       "      <td>Brock University</td>\n",
       "      <td>$319,818.78</td>\n",
       "    </tr>\n",
       "    <tr>\n",
       "      <th>130787</th>\n",
       "      <td>Roach</td>\n",
       "      <td>University of Toronto</td>\n",
       "      <td>$319,360.28</td>\n",
       "    </tr>\n",
       "  </tbody>\n",
       "</table>\n",
       "<p>100 rows × 3 columns</p>\n",
       "</div>"
      ],
      "text/plain": [
       "        Nom de famille                         Employeur     salaire\n",
       "126061         Ganjavi  Laurentian University of Sudbury $686,965.86\n",
       "129478            Hull             University of Toronto $465,324.29\n",
       "122755           Yusuf               Mcmaster University $462,846.17\n",
       "128612  Christoffersen             University of Toronto $457,575.56\n",
       "130294        Mitchell             University of Toronto $451,223.87\n",
       "131556           Whyte             University of Toronto $449,973.45\n",
       "131210         Strange             University of Toronto $442,910.28\n",
       "128033        Aivazian             University of Toronto $441,261.26\n",
       "130167         Mccurdy             University of Toronto $436,216.96\n",
       "128022         Agrawal             University of Toronto $428,082.50\n",
       "131125           Soman             University of Toronto $424,189.00\n",
       "130566           Pauly             University of Toronto $420,790.32\n",
       "128207            Baum             University of Toronto $419,325.79\n",
       "129319             Han             University of Toronto $414,077.12\n",
       "122398           Panju               Mcmaster University $413,113.36\n",
       "129384          Hejazi             University of Toronto $408,842.06\n",
       "130946       Schneider             University of Toronto $405,333.81\n",
       "129056         Florida             University of Toronto $405,251.64\n",
       "131115        Soberman             University of Toronto $403,905.40\n",
       "130912         Sargent             University of Toronto $398,555.70\n",
       "130838       Rotenberg             University of Toronto $397,091.80\n",
       "129209       Goldreich             University of Toronto $396,211.12\n",
       "121811        Crowther               Mcmaster University $395,275.80\n",
       "130281           Misak             University of Toronto $392,167.74\n",
       "131056       Silverman             University of Toronto $389,464.62\n",
       "113669           Woolf                Queen's University $386,629.92\n",
       "113936           Levin                Queen's University $384,121.88\n",
       "128908            Dyck             University of Toronto $384,073.10\n",
       "129129            Gans             University of Toronto $384,064.68\n",
       "130414          Naylor             University of Toronto $381,503.40\n",
       "...                ...                               ...         ...\n",
       "51052      Alexopoulou          Hamilton Health Sciences $336,130.62\n",
       "120573        Foerster     University of Western Ontario $335,005.50\n",
       "122390          Orovan               Mcmaster University $334,696.70\n",
       "129942              Li             University of Toronto $332,684.88\n",
       "129566            John             University of Toronto $332,475.30\n",
       "128666    Collingridge             University of Toronto $331,715.52\n",
       "120271          Bansal     University of Western Ontario $331,338.76\n",
       "113769           Anger                Queen's University $330,174.28\n",
       "130328         Moorthy             University of Toronto $329,902.14\n",
       "121784         Collins               Mcmaster University $329,506.26\n",
       "131071         Simutin             University of Toronto $329,392.79\n",
       "128343            Bova             University of Toronto $328,917.44\n",
       "124575          Madhok                   York University $328,501.08\n",
       "122442           Price               Mcmaster University $327,852.73\n",
       "128332           Booth             University of Toronto $327,368.44\n",
       "120294         Beamish     University of Western Ontario $326,990.74\n",
       "130406            Najm             University of Toronto $325,777.62\n",
       "131348          Tombak             University of Toronto $325,155.89\n",
       "130784        Ripstein             University of Toronto $325,116.12\n",
       "124511        Levesque                   York University $323,129.04\n",
       "121273            Sapp     University of Western Ontario $322,940.92\n",
       "121845         Denburg               Mcmaster University $322,786.03\n",
       "129227         Gotlieb             University of Toronto $322,649.48\n",
       "120811             Kim     University of Western Ontario $321,444.96\n",
       "130772      Richardson             University of Toronto $321,395.34\n",
       "120370          Busaba     University of Western Ontario $320,882.58\n",
       "129493           Hyatt             University of Toronto $320,876.09\n",
       "131170           Stein             University of Toronto $320,327.48\n",
       "127366          Elayan                  Brock University $319,818.78\n",
       "130787           Roach             University of Toronto $319,360.28\n",
       "\n",
       "[100 rows x 3 columns]"
      ]
     },
     "execution_count": 8,
     "metadata": {},
     "output_type": "execute_result"
    }
   ],
   "source": [
    "profsalaire = dataset[dataset['Poste'].str.contains(\"Prof\") & ~(dataset['Poste'].str.contains(\"Dean\"))]\n",
    "profsalaire.sort_values(\"salaire\",ascending=False)[[\"Nom de famille\",\"Employeur\",\"salaire\"]].head(100)"
   ]
  },
  {
   "cell_type": "markdown",
   "metadata": {
    "nbpresent": {
     "id": "cfd4f350-e0dc-461d-939e-cd1f53e132dc"
    },
    "slideshow": {
     "slide_type": "slide"
    }
   },
   "source": [
    "Ok. So we have the dataset, but there is no gender identification. Thankfully, there are available statistical models that allow us to categorize first names."
   ]
  },
  {
   "cell_type": "code",
   "execution_count": 9,
   "metadata": {
    "nbpresent": {
     "id": "5de10d37-67b0-41f3-bb76-060c9dcb5c72"
    },
    "slideshow": {
     "slide_type": "subslide"
    }
   },
   "outputs": [
    {
     "data": {
      "text/html": [
       "<div>\n",
       "<style scoped>\n",
       "    .dataframe tbody tr th:only-of-type {\n",
       "        vertical-align: middle;\n",
       "    }\n",
       "\n",
       "    .dataframe tbody tr th {\n",
       "        vertical-align: top;\n",
       "    }\n",
       "\n",
       "    .dataframe thead th {\n",
       "        text-align: right;\n",
       "    }\n",
       "</style>\n",
       "<table border=\"1\" class=\"dataframe\">\n",
       "  <thead>\n",
       "    <tr style=\"text-align: right;\">\n",
       "      <th></th>\n",
       "      <th>sex</th>\n",
       "      <th>name</th>\n",
       "    </tr>\n",
       "  </thead>\n",
       "  <tbody>\n",
       "    <tr>\n",
       "      <th>0</th>\n",
       "      <td>F</td>\n",
       "      <td>Elaine</td>\n",
       "    </tr>\n",
       "    <tr>\n",
       "      <th>1</th>\n",
       "      <td>F</td>\n",
       "      <td>Cathy</td>\n",
       "    </tr>\n",
       "    <tr>\n",
       "      <th>2</th>\n",
       "      <td>F</td>\n",
       "      <td>Heidi</td>\n",
       "    </tr>\n",
       "    <tr>\n",
       "      <th>3</th>\n",
       "      <td>F</td>\n",
       "      <td>Vicki</td>\n",
       "    </tr>\n",
       "    <tr>\n",
       "      <th>4</th>\n",
       "      <td>F</td>\n",
       "      <td>Melinda</td>\n",
       "    </tr>\n",
       "  </tbody>\n",
       "</table>\n",
       "</div>"
      ],
      "text/plain": [
       "  sex     name\n",
       "0   F   Elaine\n",
       "1   F    Cathy\n",
       "2   F    Heidi\n",
       "3   F    Vicki\n",
       "4   F  Melinda"
      ]
     },
     "execution_count": 9,
     "metadata": {},
     "output_type": "execute_result"
    }
   ],
   "source": [
    "genderstat =  pd.read_csv(\"us-likelihood-of-gender-by-name-in-2014.csv\")\n",
    "genderstat[[\"sex\",\"name\"]].head()"
   ]
  },
  {
   "cell_type": "markdown",
   "metadata": {
    "nbpresent": {
     "id": "fd095675-8b42-4872-ae4b-4fe65d7e637c"
    },
    "slideshow": {
     "slide_type": "slide"
    }
   },
   "source": [
    " But first, let us check that things work as they should:"
   ]
  },
  {
   "cell_type": "code",
   "execution_count": 10,
   "metadata": {
    "nbpresent": {
     "id": "36f5fa0e-3901-46f2-a8db-160321e47bac"
    },
    "slideshow": {
     "slide_type": "subslide"
    }
   },
   "outputs": [
    {
     "name": "stdout",
     "output_type": "stream",
     "text": [
      "Nathalie F\n",
      "Julie F\n",
      "Pierre M\n",
      "Yves M\n",
      "Daniel M\n",
      "Lohan UNKNOWN\n"
     ]
    }
   ],
   "source": [
    "from unidecode import unidecode \n",
    "def gender_first_name(name):\n",
    "    try: \n",
    "      return genderstat[genderstat['name'].map(lambda x : unidecode(x))==unidecode(name)][[\"sex\"]].values[0][0]\n",
    "    except:\n",
    "      return \"UNKNOWN\"\n",
    "for n in [\"Nathalie\", \"Julie\", \"Pierre\", \"Yves\", \"Daniel\", \"Lohan\"]:\n",
    "    print(n, gender_first_name(n))"
   ]
  },
  {
   "cell_type": "markdown",
   "metadata": {
    "nbpresent": {
     "id": "3afd2c4d-391c-4169-aefa-69d0940e3ed2"
    },
    "slideshow": {
     "slide_type": "slide"
    }
   },
   "source": [
    "Ok. So now we have two tables. What are we going to do to put the data back together? One solution is to use a \"join\"."
   ]
  },
  {
   "cell_type": "markdown",
   "metadata": {
    "nbpresent": {
     "id": "64378f60-0e99-4a04-bf6c-2166fc850f38"
    },
    "slideshow": {
     "slide_type": "slide"
    }
   },
   "source": [
    "We have a 'name' column in one dataset, and now we will create another name column on the other data set, after making sure to trim out accents so that \"Éric\" becomes \"Eric\"."
   ]
  },
  {
   "cell_type": "code",
   "execution_count": 11,
   "metadata": {
    "nbpresent": {
     "id": "e88635bb-c02c-4535-be21-cc653285e7a1"
    },
    "slideshow": {
     "slide_type": "subslide"
    }
   },
   "outputs": [
    {
     "data": {
      "text/html": [
       "<div>\n",
       "<style scoped>\n",
       "    .dataframe tbody tr th:only-of-type {\n",
       "        vertical-align: middle;\n",
       "    }\n",
       "\n",
       "    .dataframe tbody tr th {\n",
       "        vertical-align: top;\n",
       "    }\n",
       "\n",
       "    .dataframe thead th {\n",
       "        text-align: right;\n",
       "    }\n",
       "</style>\n",
       "<table border=\"1\" class=\"dataframe\">\n",
       "  <thead>\n",
       "    <tr style=\"text-align: right;\">\n",
       "      <th></th>\n",
       "      <th>name</th>\n",
       "      <th>Prénom</th>\n",
       "    </tr>\n",
       "  </thead>\n",
       "  <tbody>\n",
       "    <tr>\n",
       "      <th>0</th>\n",
       "      <td>Peter</td>\n",
       "      <td>Peter</td>\n",
       "    </tr>\n",
       "    <tr>\n",
       "      <th>1</th>\n",
       "      <td>W. Matthew</td>\n",
       "      <td>W. Matthew</td>\n",
       "    </tr>\n",
       "    <tr>\n",
       "      <th>2</th>\n",
       "      <td>Mary Ellen</td>\n",
       "      <td>Mary Ellen</td>\n",
       "    </tr>\n",
       "    <tr>\n",
       "      <th>3</th>\n",
       "      <td>Susan</td>\n",
       "      <td>Susan</td>\n",
       "    </tr>\n",
       "    <tr>\n",
       "      <th>4</th>\n",
       "      <td>Peter</td>\n",
       "      <td>Peter</td>\n",
       "    </tr>\n",
       "    <tr>\n",
       "      <th>5</th>\n",
       "      <td>Therese</td>\n",
       "      <td>Therese</td>\n",
       "    </tr>\n",
       "    <tr>\n",
       "      <th>6</th>\n",
       "      <td>Daniel</td>\n",
       "      <td>Daniel</td>\n",
       "    </tr>\n",
       "    <tr>\n",
       "      <th>7</th>\n",
       "      <td>Deborah</td>\n",
       "      <td>Deborah</td>\n",
       "    </tr>\n",
       "    <tr>\n",
       "      <th>8</th>\n",
       "      <td>Shirley</td>\n",
       "      <td>Shirley</td>\n",
       "    </tr>\n",
       "    <tr>\n",
       "      <th>9</th>\n",
       "      <td>Sue</td>\n",
       "      <td>Sue</td>\n",
       "    </tr>\n",
       "  </tbody>\n",
       "</table>\n",
       "</div>"
      ],
      "text/plain": [
       "         name      Prénom\n",
       "0       Peter       Peter\n",
       "1  W. Matthew  W. Matthew\n",
       "2  Mary Ellen  Mary Ellen\n",
       "3       Susan       Susan\n",
       "4       Peter       Peter\n",
       "5     Therese     Therese\n",
       "6      Daniel      Daniel\n",
       "7     Deborah     Deborah\n",
       "8     Shirley     Shirley\n",
       "9         Sue         Sue"
      ]
     },
     "execution_count": 11,
     "metadata": {},
     "output_type": "execute_result"
    }
   ],
   "source": [
    "from unidecode import unidecode \n",
    "dataset['name'] = dataset['Prénom'].apply(lambda n : unidecode(n) )\n",
    "dataset[['name','Prénom']].head(10)"
   ]
  },
  {
   "cell_type": "code",
   "execution_count": 12,
   "metadata": {
    "nbpresent": {
     "id": "0f1ed89d-8416-4f95-8fd2-6942155dcad2"
    },
    "slideshow": {
     "slide_type": "slide"
    }
   },
   "outputs": [],
   "source": [
    "datasetwithgender=pd.merge(dataset,genderstat,on=\"name\")"
   ]
  },
  {
   "cell_type": "code",
   "execution_count": 13,
   "metadata": {
    "nbpresent": {
     "id": "dc6bd4dd-1cfb-4b22-a350-aaf1f247a6b0"
    },
    "slideshow": {
     "slide_type": "subslide"
    }
   },
   "outputs": [
    {
     "data": {
      "text/plain": [
       "sex\n",
       "F    43315\n",
       "M    58417\n",
       "dtype: int64"
      ]
     },
     "execution_count": 13,
     "metadata": {},
     "output_type": "execute_result"
    }
   ],
   "source": [
    "datasetwithgender.groupby(\"sex\").size()"
   ]
  },
  {
   "cell_type": "code",
   "execution_count": 14,
   "metadata": {
    "nbpresent": {
     "id": "168c806f-ffff-43d4-ae94-2da0fe49d832"
    },
    "slideshow": {
     "slide_type": "skip"
    }
   },
   "outputs": [
    {
     "data": {
      "image/png": "[encoded data removed]",
      "text/plain": [
       "<Figure size 432x288 with 1 Axes>"
      ]
     },
     "metadata": {},
     "output_type": "display_data"
    }
   ],
   "source": [
    "fig, ax = plt.subplots()\n",
    "datasetwithgender[datasetwithgender[\"sex\"]==\"M\"][\"salaire\"].plot.hist(ax=ax,bins=100)\n",
    "datasetwithgender[datasetwithgender[\"sex\"]==\"F\"][\"salaire\"].plot.hist(ax=ax, bins=100)\n",
    "ax.set_yscale('log')"
   ]
  },
  {
   "cell_type": "code",
   "execution_count": 15,
   "metadata": {},
   "outputs": [
    {
     "data": {
      "text/plain": [
       "<matplotlib.axes._subplots.AxesSubplot at 0x111d69b00>"
      ]
     },
     "execution_count": 15,
     "metadata": {},
     "output_type": "execute_result"
    },
    {
     "data": {
      "image/png": "[encoded data removed]",
      "text/plain": [
       "<Figure size 432x288 with 1 Axes>"
      ]
     },
     "metadata": {},
     "output_type": "display_data"
    }
   ],
   "source": [
    "datasetwithgender[datasetwithgender[\"Poste\"]==\"Physician\"].groupby([\"sex\"]).agg({'salaire':[np.mean,np.max,np.median]}).plot.bar()"
   ]
  },
  {
   "cell_type": "code",
   "execution_count": 16,
   "metadata": {
    "nbpresent": {
     "id": "191f750f-3aab-42c2-8a8a-092b05413fd4"
    },
    "slideshow": {
     "slide_type": "slide"
    }
   },
   "outputs": [
    {
     "data": {
      "text/html": [
       "<div>\n",
       "<style scoped>\n",
       "    .dataframe tbody tr th:only-of-type {\n",
       "        vertical-align: middle;\n",
       "    }\n",
       "\n",
       "    .dataframe tbody tr th {\n",
       "        vertical-align: top;\n",
       "    }\n",
       "\n",
       "    .dataframe thead th {\n",
       "        text-align: right;\n",
       "    }\n",
       "</style>\n",
       "<table border=\"1\" class=\"dataframe\">\n",
       "  <thead>\n",
       "    <tr style=\"text-align: right;\">\n",
       "      <th></th>\n",
       "      <th>salaire</th>\n",
       "    </tr>\n",
       "    <tr>\n",
       "      <th>sex</th>\n",
       "      <th></th>\n",
       "    </tr>\n",
       "  </thead>\n",
       "  <tbody>\n",
       "    <tr>\n",
       "      <th>F</th>\n",
       "      <td>$123,879.68</td>\n",
       "    </tr>\n",
       "    <tr>\n",
       "      <th>M</th>\n",
       "      <td>$130,332.61</td>\n",
       "    </tr>\n",
       "  </tbody>\n",
       "</table>\n",
       "</div>"
      ],
      "text/plain": [
       "        salaire\n",
       "sex            \n",
       "F   $123,879.68\n",
       "M   $130,332.61"
      ]
     },
     "execution_count": 16,
     "metadata": {},
     "output_type": "execute_result"
    }
   ],
   "source": [
    "datasetwithgender.groupby(\"sex\").agg({'salaire':np.mean})"
   ]
  },
  {
   "cell_type": "code",
   "execution_count": 17,
   "metadata": {
    "nbpresent": {
     "id": "a487fb86-4638-49dc-9aa5-ebfe060ecd4e"
    },
    "slideshow": {
     "slide_type": "subslide"
    }
   },
   "outputs": [
    {
     "data": {
      "text/html": [
       "<div>\n",
       "<style scoped>\n",
       "    .dataframe tbody tr th:only-of-type {\n",
       "        vertical-align: middle;\n",
       "    }\n",
       "\n",
       "    .dataframe tbody tr th {\n",
       "        vertical-align: top;\n",
       "    }\n",
       "\n",
       "    .dataframe thead th {\n",
       "        text-align: right;\n",
       "    }\n",
       "</style>\n",
       "<table border=\"1\" class=\"dataframe\">\n",
       "  <thead>\n",
       "    <tr style=\"text-align: right;\">\n",
       "      <th></th>\n",
       "      <th>salaire</th>\n",
       "    </tr>\n",
       "    <tr>\n",
       "      <th>sex</th>\n",
       "      <th></th>\n",
       "    </tr>\n",
       "  </thead>\n",
       "  <tbody>\n",
       "    <tr>\n",
       "      <th>F</th>\n",
       "      <td>$745,268.93</td>\n",
       "    </tr>\n",
       "    <tr>\n",
       "      <th>M</th>\n",
       "      <td>$1,561,320.95</td>\n",
       "    </tr>\n",
       "  </tbody>\n",
       "</table>\n",
       "</div>"
      ],
      "text/plain": [
       "          salaire\n",
       "sex              \n",
       "F     $745,268.93\n",
       "M   $1,561,320.95"
      ]
     },
     "execution_count": 17,
     "metadata": {},
     "output_type": "execute_result"
    }
   ],
   "source": [
    "datasetwithgender.groupby(\"sex\").agg({'salaire':np.max})"
   ]
  },
  {
   "cell_type": "code",
   "execution_count": 18,
   "metadata": {
    "nbpresent": {
     "id": "a90a9835-0597-4034-9518-12263db40706"
    },
    "slideshow": {
     "slide_type": "slide"
    }
   },
   "outputs": [],
   "source": [
    "waterlooprofessor = datasetwithgender[(datasetwithgender[\"Employeur\"]==\"University of Waterloo\")\n",
    "                                      &(datasetwithgender[\"Poste\"].str.contains(\"Professor\"))]"
   ]
  },
  {
   "cell_type": "code",
   "execution_count": 19,
   "metadata": {},
   "outputs": [
    {
     "data": {
      "text/plain": [
       "<matplotlib.axes._subplots.AxesSubplot at 0x111713668>"
      ]
     },
     "execution_count": 19,
     "metadata": {},
     "output_type": "execute_result"
    },
    {
     "data": {
      "image/png": "[encoded data removed]",
      "text/plain": [
       "<Figure size 432x288 with 1 Axes>"
      ]
     },
     "metadata": {},
     "output_type": "display_data"
    }
   ],
   "source": [
    "waterlooprofessor[waterlooprofessor[\"sex\"]==\"M\"][\"salaire\"].plot.hist( bins=20)\n",
    "waterlooprofessor[waterlooprofessor[\"sex\"]==\"F\"][\"salaire\"].plot.hist( bins=20)"
   ]
  },
  {
   "cell_type": "code",
   "execution_count": 20,
   "metadata": {
    "nbpresent": {
     "id": "8c8d9315-cb30-442a-acf3-304328941648"
    },
    "slideshow": {
     "slide_type": "subslide"
    }
   },
   "outputs": [
    {
     "data": {
      "text/plain": [
       "<matplotlib.axes._subplots.AxesSubplot at 0x1a1eed39b0>"
      ]
     },
     "execution_count": 20,
     "metadata": {},
     "output_type": "execute_result"
    },
    {
     "data": {
      "image/png": "[encoded data removed]",
      "text/plain": [
       "<Figure size 432x288 with 1 Axes>"
      ]
     },
     "metadata": {},
     "output_type": "display_data"
    }
   ],
   "source": [
    "waterlooprofessor.groupby(\"sex\").agg({'salaire':np.max}).plot.bar()"
   ]
  },
  {
   "cell_type": "code",
   "execution_count": 28,
   "metadata": {
    "nbpresent": {
     "id": "fa51797b-f485-44f0-a5f3-a32298b8f666"
    },
    "slideshow": {
     "slide_type": "subslide"
    }
   },
   "outputs": [
    {
     "data": {
      "text/plain": [
       "<matplotlib.axes._subplots.AxesSubplot at 0x1a1f4373c8>"
      ]
     },
     "execution_count": 28,
     "metadata": {},
     "output_type": "execute_result"
    },
    {
     "data": {
      "image/png": "[encoded data removed]",
      "text/plain": [
       "<Figure size 432x288 with 1 Axes>"
      ]
     },
     "metadata": {},
     "output_type": "display_data"
    }
   ],
   "source": [
    "waterlooprofessor.groupby(\"sex\").agg({'name':np.size}).plot.bar()"
   ]
  },
  {
   "cell_type": "code",
   "execution_count": 22,
   "metadata": {
    "nbpresent": {
     "id": "9ad913ef-c3b2-447d-a528-61cb3fcc6722"
    },
    "slideshow": {
     "slide_type": "slide"
    }
   },
   "outputs": [
    {
     "data": {
      "text/html": [
       "<div>\n",
       "<style scoped>\n",
       "    .dataframe tbody tr th:only-of-type {\n",
       "        vertical-align: middle;\n",
       "    }\n",
       "\n",
       "    .dataframe tbody tr th {\n",
       "        vertical-align: top;\n",
       "    }\n",
       "\n",
       "    .dataframe thead th {\n",
       "        text-align: right;\n",
       "    }\n",
       "</style>\n",
       "<table border=\"1\" class=\"dataframe\">\n",
       "  <thead>\n",
       "    <tr style=\"text-align: right;\">\n",
       "      <th></th>\n",
       "      <th>name</th>\n",
       "      <th>sex</th>\n",
       "      <th>salaire</th>\n",
       "    </tr>\n",
       "  </thead>\n",
       "  <tbody>\n",
       "    <tr>\n",
       "      <th>796</th>\n",
       "      <td>Peter</td>\n",
       "      <td>M</td>\n",
       "      <td>$185,750.40</td>\n",
       "    </tr>\n",
       "    <tr>\n",
       "      <th>797</th>\n",
       "      <td>Peter</td>\n",
       "      <td>M</td>\n",
       "      <td>$153,990.13</td>\n",
       "    </tr>\n",
       "    <tr>\n",
       "      <th>798</th>\n",
       "      <td>Peter</td>\n",
       "      <td>M</td>\n",
       "      <td>$153,903.36</td>\n",
       "    </tr>\n",
       "    <tr>\n",
       "      <th>800</th>\n",
       "      <td>Peter</td>\n",
       "      <td>M</td>\n",
       "      <td>$179,153.60</td>\n",
       "    </tr>\n",
       "    <tr>\n",
       "      <th>801</th>\n",
       "      <td>Peter</td>\n",
       "      <td>M</td>\n",
       "      <td>$185,766.00</td>\n",
       "    </tr>\n",
       "  </tbody>\n",
       "</table>\n",
       "</div>"
      ],
      "text/plain": [
       "      name sex     salaire\n",
       "796  Peter   M $185,750.40\n",
       "797  Peter   M $153,990.13\n",
       "798  Peter   M $153,903.36\n",
       "800  Peter   M $179,153.60\n",
       "801  Peter   M $185,766.00"
      ]
     },
     "execution_count": 22,
     "metadata": {},
     "output_type": "execute_result"
    }
   ],
   "source": [
    "ottawaprofessor = datasetwithgender[(datasetwithgender[\"Employeur\"]==\"University of Ottawa\")\n",
    "                                      &(datasetwithgender[\"Poste\"].str.contains(\"Professeur\"))]\n",
    "ottawaprofessor[['name','sex',\"salaire\"]].head(5)"
   ]
  },
  {
   "cell_type": "code",
   "execution_count": 23,
   "metadata": {
    "nbpresent": {
     "id": "b89a9b85-39cc-4250-9035-277bb5593692"
    },
    "slideshow": {
     "slide_type": "subslide"
    }
   },
   "outputs": [
    {
     "data": {
      "text/html": [
       "<div>\n",
       "<style scoped>\n",
       "    .dataframe tbody tr th:only-of-type {\n",
       "        vertical-align: middle;\n",
       "    }\n",
       "\n",
       "    .dataframe tbody tr th {\n",
       "        vertical-align: top;\n",
       "    }\n",
       "\n",
       "    .dataframe thead th {\n",
       "        text-align: right;\n",
       "    }\n",
       "</style>\n",
       "<table border=\"1\" class=\"dataframe\">\n",
       "  <thead>\n",
       "    <tr style=\"text-align: right;\">\n",
       "      <th></th>\n",
       "      <th>salaire</th>\n",
       "    </tr>\n",
       "    <tr>\n",
       "      <th>sex</th>\n",
       "      <th></th>\n",
       "    </tr>\n",
       "  </thead>\n",
       "  <tbody>\n",
       "    <tr>\n",
       "      <th>F</th>\n",
       "      <td>$147,084.86</td>\n",
       "    </tr>\n",
       "    <tr>\n",
       "      <th>M</th>\n",
       "      <td>$156,445.92</td>\n",
       "    </tr>\n",
       "  </tbody>\n",
       "</table>\n",
       "</div>"
      ],
      "text/plain": [
       "        salaire\n",
       "sex            \n",
       "F   $147,084.86\n",
       "M   $156,445.92"
      ]
     },
     "execution_count": 23,
     "metadata": {},
     "output_type": "execute_result"
    }
   ],
   "source": [
    "ottawaprofessor.groupby(\"sex\").agg({'salaire':np.mean})"
   ]
  },
  {
   "cell_type": "code",
   "execution_count": 24,
   "metadata": {
    "nbpresent": {
     "id": "43f6bd04-d9f3-4405-a848-b8fb396dcb1d"
    },
    "slideshow": {
     "slide_type": "subslide"
    }
   },
   "outputs": [
    {
     "data": {
      "text/html": [
       "<div>\n",
       "<style scoped>\n",
       "    .dataframe tbody tr th:only-of-type {\n",
       "        vertical-align: middle;\n",
       "    }\n",
       "\n",
       "    .dataframe tbody tr th {\n",
       "        vertical-align: top;\n",
       "    }\n",
       "\n",
       "    .dataframe thead th {\n",
       "        text-align: right;\n",
       "    }\n",
       "</style>\n",
       "<table border=\"1\" class=\"dataframe\">\n",
       "  <thead>\n",
       "    <tr style=\"text-align: right;\">\n",
       "      <th></th>\n",
       "      <th>salaire</th>\n",
       "    </tr>\n",
       "    <tr>\n",
       "      <th>sex</th>\n",
       "      <th></th>\n",
       "    </tr>\n",
       "  </thead>\n",
       "  <tbody>\n",
       "    <tr>\n",
       "      <th>F</th>\n",
       "      <td>$237,641.00</td>\n",
       "    </tr>\n",
       "    <tr>\n",
       "      <th>M</th>\n",
       "      <td>$260,765.92</td>\n",
       "    </tr>\n",
       "  </tbody>\n",
       "</table>\n",
       "</div>"
      ],
      "text/plain": [
       "        salaire\n",
       "sex            \n",
       "F   $237,641.00\n",
       "M   $260,765.92"
      ]
     },
     "execution_count": 24,
     "metadata": {},
     "output_type": "execute_result"
    }
   ],
   "source": [
    "ottawaprofessor.groupby(\"sex\").agg({'salaire':np.max})"
   ]
  },
  {
   "cell_type": "code",
   "execution_count": 25,
   "metadata": {},
   "outputs": [
    {
     "data": {
      "text/plain": [
       "<matplotlib.axes._subplots.AxesSubplot at 0x1a1f030470>"
      ]
     },
     "execution_count": 25,
     "metadata": {},
     "output_type": "execute_result"
    },
    {
     "data": {
      "image/png": "[encoded data removed]",
      "text/plain": [
       "<Figure size 432x288 with 1 Axes>"
      ]
     },
     "metadata": {},
     "output_type": "display_data"
    }
   ],
   "source": [
    "\n",
    "ottawaprofessor[ottawaprofessor[\"sex\"]==\"M\"][\"salaire\"].plot.hist( bins=20)\n",
    "ottawaprofessor[ottawaprofessor[\"sex\"]==\"F\"][\"salaire\"].plot.hist( bins=20)"
   ]
  }
 ],
 "metadata": {
  "anaconda-cloud": {},
  "celltoolbar": "Slideshow",
  "kernelspec": {
   "display_name": "Python 3",
   "language": "python",
   "name": "python3"
  },
  "language_info": {
   "codemirror_mode": {
    "name": "ipython",
    "version": 3
   },
   "file_extension": ".py",
   "mimetype": "text/x-python",
   "name": "python",
   "nbconvert_exporter": "python",
   "pygments_lexer": "ipython3",
   "version": "3.6.5"
  },
  "nbpresent": {
   "slides": {
    "0177751d-1131-4f6b-824c-3a78ba697ceb": {
     "id": "0177751d-1131-4f6b-824c-3a78ba697ceb",
     "prev": "6635ee27-2318-40e4-a41a-201ed62a801f",
     "regions": {
      "1ad51e17-dd7d-496a-a6c9-d74d870bc5af": {
       "attrs": {
        "height": 0.8,
        "width": 0.8,
        "x": 0.1,
        "y": 0.1
       },
       "content": {
        "cell": "43f6bd04-d9f3-4405-a848-b8fb396dcb1d",
        "part": "whole"
       },
       "id": "1ad51e17-dd7d-496a-a6c9-d74d870bc5af"
      }
     }
    },
    "0743314d-fbfe-4811-8726-f801199d1a8b": {
     "id": "0743314d-fbfe-4811-8726-f801199d1a8b",
     "prev": "3ee2b224-17e3-45b7-bcb2-64a29ae87e03",
     "regions": {
      "15ebdad5-0a55-4c50-8de6-012f68e043ae": {
       "attrs": {
        "height": 0.8,
        "width": 0.8,
        "x": 0.1,
        "y": 0.1
       },
       "content": {
        "cell": "4f77ded8-139d-4fa6-9afc-855463858c47",
        "part": "whole"
       },
       "id": "15ebdad5-0a55-4c50-8de6-012f68e043ae"
      }
     }
    },
    "0d385e20-59c5-4620-b851-e6a4f09880ed": {
     "id": "0d385e20-59c5-4620-b851-e6a4f09880ed",
     "prev": "0743314d-fbfe-4811-8726-f801199d1a8b",
     "regions": {
      "ace1c563-f817-47a4-af41-ce73c3664863": {
       "attrs": {
        "height": 0.8,
        "width": 0.8,
        "x": 0.1,
        "y": 0.1
       },
       "content": {
        "cell": "83ffd463-5a5a-4a8d-9bc3-9fb24109872d",
        "part": "whole"
       },
       "id": "ace1c563-f817-47a4-af41-ce73c3664863"
      }
     }
    },
    "106b47de-f4f2-49e5-bd09-f29a541cf3ab": {
     "id": "106b47de-f4f2-49e5-bd09-f29a541cf3ab",
     "prev": "852ce1db-c7f4-49cf-8232-3a263f125298",
     "regions": {
      "33c93761-3610-4bac-b20b-8b88f41aaf7d": {
       "attrs": {
        "height": 0.8,
        "width": 0.8,
        "x": 0.1,
        "y": 0.1
       },
       "content": {
        "cell": "a487fb86-4638-49dc-9aa5-ebfe060ecd4e",
        "part": "whole"
       },
       "id": "33c93761-3610-4bac-b20b-8b88f41aaf7d"
      }
     }
    },
    "363d745e-837e-4267-b31b-013b74bea3a9": {
     "id": "363d745e-837e-4267-b31b-013b74bea3a9",
     "prev": "ab466796-1971-4ccc-bd3c-fa865ec117b8",
     "regions": {
      "2584e991-07f4-4cdb-984a-dbfc4ce3bf19": {
       "attrs": {
        "height": 0.8,
        "width": 0.8,
        "x": 0.1,
        "y": 0.1
       },
       "content": {
        "cell": "b3a3a1a8-3e09-4b3c-afcb-4c5fdae97ae0",
        "part": "whole"
       },
       "id": "2584e991-07f4-4cdb-984a-dbfc4ce3bf19"
      }
     }
    },
    "3ee2b224-17e3-45b7-bcb2-64a29ae87e03": {
     "id": "3ee2b224-17e3-45b7-bcb2-64a29ae87e03",
     "prev": "363d745e-837e-4267-b31b-013b74bea3a9",
     "regions": {
      "0bef0487-e97e-4424-b798-fcb52e0cbc84": {
       "attrs": {
        "height": 0.8,
        "width": 0.8,
        "x": 0.1,
        "y": 0.1
       },
       "content": {
        "cell": "fdcf0856-3b32-4270-b942-131c643bc3d8",
        "part": "whole"
       },
       "id": "0bef0487-e97e-4424-b798-fcb52e0cbc84"
      }
     }
    },
    "47f38109-f95d-4d50-ad79-2c6a1dde64ad": {
     "id": "47f38109-f95d-4d50-ad79-2c6a1dde64ad",
     "prev": "d71ea1df-e5ac-4438-a5c6-5cc13de848ae",
     "regions": {
      "2c0e576f-3a5a-42e7-bd49-34fab29a4934": {
       "attrs": {
        "height": 0.8,
        "width": 0.8,
        "x": 0.1,
        "y": 0.1
       },
       "content": {
        "cell": "168c806f-ffff-43d4-ae94-2da0fe49d832",
        "part": "whole"
       },
       "id": "2c0e576f-3a5a-42e7-bd49-34fab29a4934"
      }
     }
    },
    "4ba17d4e-e5cc-4e3d-ad1a-59662c921ef9": {
     "id": "4ba17d4e-e5cc-4e3d-ad1a-59662c921ef9",
     "prev": "bcfeafe2-bb33-488b-9e05-0772cf6ae5da",
     "regions": {
      "86c7f96a-dffa-4d68-b64c-285ea36e8b4b": {
       "attrs": {
        "height": 0.8,
        "width": 0.8,
        "x": 0.1,
        "y": 0.1
       },
       "content": {
        "cell": "3afd2c4d-391c-4169-aefa-69d0940e3ed2",
        "part": "whole"
       },
       "id": "86c7f96a-dffa-4d68-b64c-285ea36e8b4b"
      }
     }
    },
    "5752afcd-ad8f-4cb0-b349-174a4c238e41": {
     "id": "5752afcd-ad8f-4cb0-b349-174a4c238e41",
     "prev": "47f38109-f95d-4d50-ad79-2c6a1dde64ad",
     "regions": {
      "9de4eb98-7386-4c6e-8bef-a58e070beb05": {
       "attrs": {
        "height": 0.8,
        "width": 0.8,
        "x": 0.1,
        "y": 0.1
       },
       "content": {
        "cell": "d721366b-cc08-4810-ade8-39cd1576ca43",
        "part": "whole"
       },
       "id": "9de4eb98-7386-4c6e-8bef-a58e070beb05"
      }
     }
    },
    "6291c207-492a-417d-9902-795c16aecbdc": {
     "id": "6291c207-492a-417d-9902-795c16aecbdc",
     "prev": "ebd6fe98-da54-4a5b-8625-d9c250526f91",
     "regions": {
      "e32f9058-1af2-4e7c-bedf-40246b2e2338": {
       "attrs": {
        "height": 0.8,
        "width": 0.8,
        "x": 0.1,
        "y": 0.1
       },
       "content": {
        "cell": "0f1ed89d-8416-4f95-8fd2-6942155dcad2",
        "part": "whole"
       },
       "id": "e32f9058-1af2-4e7c-bedf-40246b2e2338"
      }
     }
    },
    "6635ee27-2318-40e4-a41a-201ed62a801f": {
     "id": "6635ee27-2318-40e4-a41a-201ed62a801f",
     "prev": "f4c79300-b051-4835-9586-474859514a6a",
     "regions": {
      "ea300c9c-e424-48db-96e9-acccb7460e0d": {
       "attrs": {
        "height": 0.8,
        "width": 0.8,
        "x": 0.1,
        "y": 0.1
       },
       "content": {
        "cell": "b89a9b85-39cc-4250-9035-277bb5593692",
        "part": "whole"
       },
       "id": "ea300c9c-e424-48db-96e9-acccb7460e0d"
      }
     }
    },
    "745b762c-b449-4788-9334-46d65f47acbc": {
     "id": "745b762c-b449-4788-9334-46d65f47acbc",
     "prev": "b6992e3a-415e-4856-83bd-5b657f0ea23f",
     "regions": {
      "1925d466-2ede-4ab0-8fe8-ec7f39d6eb1f": {
       "attrs": {
        "height": 0.8,
        "width": 0.8,
        "x": 0.1,
        "y": 0.1
       },
       "content": {
        "cell": "8c8d9315-cb30-442a-acf3-304328941648",
        "part": "whole"
       },
       "id": "1925d466-2ede-4ab0-8fe8-ec7f39d6eb1f"
      }
     }
    },
    "852ce1db-c7f4-49cf-8232-3a263f125298": {
     "id": "852ce1db-c7f4-49cf-8232-3a263f125298",
     "prev": "5752afcd-ad8f-4cb0-b349-174a4c238e41",
     "regions": {
      "6e3c95d9-d514-43ef-8c9a-e27d0fd3ea9d": {
       "attrs": {
        "height": 0.8,
        "width": 0.8,
        "x": 0.1,
        "y": 0.1
       },
       "content": {
        "cell": "191f750f-3aab-42c2-8a8a-092b05413fd4",
        "part": "whole"
       },
       "id": "6e3c95d9-d514-43ef-8c9a-e27d0fd3ea9d"
      }
     }
    },
    "8e4d190d-1a08-4e74-957a-e96bdf7fbaf4": {
     "id": "8e4d190d-1a08-4e74-957a-e96bdf7fbaf4",
     "prev": "bbb6cb9b-5cc2-4cff-80a2-027eb860bd71",
     "regions": {
      "0b816b53-b74b-4b21-a319-8ac92b0cfb6b": {
       "attrs": {
        "height": 0.8,
        "width": 0.8,
        "x": 0.1,
        "y": 0.1
       },
       "content": {
        "cell": "cfd4f350-e0dc-461d-939e-cd1f53e132dc",
        "part": "whole"
       },
       "id": "0b816b53-b74b-4b21-a319-8ac92b0cfb6b"
      }
     }
    },
    "9389e65e-c3f8-4995-beaf-7dec39b4edd9": {
     "id": "9389e65e-c3f8-4995-beaf-7dec39b4edd9",
     "prev": "8e4d190d-1a08-4e74-957a-e96bdf7fbaf4",
     "regions": {
      "ae537bab-eb2a-492f-a0be-3b0b9cb86ef9": {
       "attrs": {
        "height": 0.8,
        "width": 0.8,
        "x": 0.1,
        "y": 0.1
       },
       "content": {
        "cell": "5de10d37-67b0-41f3-bb76-060c9dcb5c72",
        "part": "whole"
       },
       "id": "ae537bab-eb2a-492f-a0be-3b0b9cb86ef9"
      }
     }
    },
    "a21bb47d-c174-438c-850f-895fdc6ccc17": {
     "id": "a21bb47d-c174-438c-850f-895fdc6ccc17",
     "prev": "745b762c-b449-4788-9334-46d65f47acbc",
     "regions": {
      "dee5cb03-7796-4592-bb1e-ff40202f1137": {
       "attrs": {
        "height": 0.8,
        "width": 0.8,
        "x": 0.1,
        "y": 0.1
       },
       "content": {
        "cell": "fa51797b-f485-44f0-a5f3-a32298b8f666",
        "part": "whole"
       },
       "id": "dee5cb03-7796-4592-bb1e-ff40202f1137"
      }
     }
    },
    "ab466796-1971-4ccc-bd3c-fa865ec117b8": {
     "id": "ab466796-1971-4ccc-bd3c-fa865ec117b8",
     "prev": null,
     "regions": {
      "81e00764-9f77-4350-b03d-c813ef5a88b4": {
       "attrs": {
        "height": 0.8,
        "width": 0.8,
        "x": 0.1,
        "y": 0.1
       },
       "content": {
        "cell": "126c5a88-ab32-4c59-8d87-0cfc029d55c7",
        "part": "whole"
       },
       "id": "81e00764-9f77-4350-b03d-c813ef5a88b4"
      }
     }
    },
    "abea4f01-34ff-4cb3-80c8-0999adb231df": {
     "id": "abea4f01-34ff-4cb3-80c8-0999adb231df",
     "prev": "0177751d-1131-4f6b-824c-3a78ba697ceb",
     "regions": {
      "ef256d5d-b4c4-42ab-9b20-470dfafeafea": {
       "attrs": {
        "height": 0.8,
        "width": 0.8,
        "x": 0.1,
        "y": 0.1
       },
       "content": {
        "cell": "943039e9-b672-4613-8a0d-67e5408fc1d5",
        "part": "whole"
       },
       "id": "ef256d5d-b4c4-42ab-9b20-470dfafeafea"
      }
     }
    },
    "b6992e3a-415e-4856-83bd-5b657f0ea23f": {
     "id": "b6992e3a-415e-4856-83bd-5b657f0ea23f",
     "prev": "106b47de-f4f2-49e5-bd09-f29a541cf3ab",
     "regions": {
      "156036cf-cb9a-4e2a-9274-e2f0d1befad0": {
       "attrs": {
        "height": 0.8,
        "width": 0.8,
        "x": 0.1,
        "y": 0.1
       },
       "content": {
        "cell": "a90a9835-0597-4034-9518-12263db40706",
        "part": "whole"
       },
       "id": "156036cf-cb9a-4e2a-9274-e2f0d1befad0"
      }
     }
    },
    "bbb6cb9b-5cc2-4cff-80a2-027eb860bd71": {
     "id": "bbb6cb9b-5cc2-4cff-80a2-027eb860bd71",
     "prev": "cffbf8d5-5861-4802-af66-7006a49b93e3",
     "regions": {
      "c78333ca-a170-42b0-b6b9-ab065e3a3b06": {
       "attrs": {
        "height": 0.8,
        "width": 0.8,
        "x": 0.1,
        "y": 0.1
       },
       "content": {
        "cell": "6ff3ea64-541f-4766-bea4-1e293c6113e9",
        "part": "whole"
       },
       "id": "c78333ca-a170-42b0-b6b9-ab065e3a3b06"
      }
     }
    },
    "bcfeafe2-bb33-488b-9e05-0772cf6ae5da": {
     "id": "bcfeafe2-bb33-488b-9e05-0772cf6ae5da",
     "prev": "daf8611f-2c91-47d7-9e5c-6a0fc94147bf",
     "regions": {
      "c055e553-9cdd-401d-a907-43234a9c2cfa": {
       "attrs": {
        "height": 0.8,
        "width": 0.8,
        "x": 0.1,
        "y": 0.1
       },
       "content": {
        "cell": "36f5fa0e-3901-46f2-a8db-160321e47bac",
        "part": "whole"
       },
       "id": "c055e553-9cdd-401d-a907-43234a9c2cfa"
      }
     }
    },
    "cffbf8d5-5861-4802-af66-7006a49b93e3": {
     "id": "cffbf8d5-5861-4802-af66-7006a49b93e3",
     "prev": "0d385e20-59c5-4620-b851-e6a4f09880ed",
     "regions": {
      "93da5ed2-8005-4760-8952-626d2b49545f": {
       "attrs": {
        "height": 0.8,
        "width": 0.8,
        "x": 0.1,
        "y": 0.1
       },
       "content": {
        "cell": "8a6b57ee-eb8d-4a8b-b907-d8a5fa511da2",
        "part": "whole"
       },
       "id": "93da5ed2-8005-4760-8952-626d2b49545f"
      }
     }
    },
    "d3770a3f-7410-4034-b617-3a75920be816": {
     "id": "d3770a3f-7410-4034-b617-3a75920be816",
     "prev": "4ba17d4e-e5cc-4e3d-ad1a-59662c921ef9",
     "regions": {
      "a1383e79-a563-4f25-9535-b7b28257e0eb": {
       "attrs": {
        "height": 0.8,
        "width": 0.8,
        "x": 0.1,
        "y": 0.1
       },
       "content": {
        "cell": "64378f60-0e99-4a04-bf6c-2166fc850f38",
        "part": "whole"
       },
       "id": "a1383e79-a563-4f25-9535-b7b28257e0eb"
      }
     }
    },
    "d71ea1df-e5ac-4438-a5c6-5cc13de848ae": {
     "id": "d71ea1df-e5ac-4438-a5c6-5cc13de848ae",
     "prev": "6291c207-492a-417d-9902-795c16aecbdc",
     "regions": {
      "1c280e34-4532-42ec-8835-c24b311c3c46": {
       "attrs": {
        "height": 0.8,
        "width": 0.8,
        "x": 0.1,
        "y": 0.1
       },
       "content": {
        "cell": "dc6bd4dd-1cfb-4b22-a350-aaf1f247a6b0",
        "part": "whole"
       },
       "id": "1c280e34-4532-42ec-8835-c24b311c3c46"
      }
     }
    },
    "daf8611f-2c91-47d7-9e5c-6a0fc94147bf": {
     "id": "daf8611f-2c91-47d7-9e5c-6a0fc94147bf",
     "prev": "9389e65e-c3f8-4995-beaf-7dec39b4edd9",
     "regions": {
      "3d4ccfc3-c8d6-4802-9fea-52ba8a1d6b3b": {
       "attrs": {
        "height": 0.8,
        "width": 0.8,
        "x": 0.1,
        "y": 0.1
       },
       "content": {
        "cell": "fd095675-8b42-4872-ae4b-4fe65d7e637c",
        "part": "whole"
       },
       "id": "3d4ccfc3-c8d6-4802-9fea-52ba8a1d6b3b"
      }
     }
    },
    "ebd6fe98-da54-4a5b-8625-d9c250526f91": {
     "id": "ebd6fe98-da54-4a5b-8625-d9c250526f91",
     "prev": "d3770a3f-7410-4034-b617-3a75920be816",
     "regions": {
      "2d28d79d-74bf-4456-a425-bf1fa0eb5f56": {
       "attrs": {
        "height": 0.8,
        "width": 0.8,
        "x": 0.1,
        "y": 0.1
       },
       "content": {
        "cell": "e88635bb-c02c-4535-be21-cc653285e7a1",
        "part": "whole"
       },
       "id": "2d28d79d-74bf-4456-a425-bf1fa0eb5f56"
      }
     }
    },
    "f4c79300-b051-4835-9586-474859514a6a": {
     "id": "f4c79300-b051-4835-9586-474859514a6a",
     "prev": "a21bb47d-c174-438c-850f-895fdc6ccc17",
     "regions": {
      "b500791d-877a-4d8e-905c-1e9d323ca62f": {
       "attrs": {
        "height": 0.8,
        "width": 0.8,
        "x": 0.1,
        "y": 0.1
       },
       "content": {
        "cell": "9ad913ef-c3b2-447d-a528-61cb3fcc6722",
        "part": "whole"
       },
       "id": "b500791d-877a-4d8e-905c-1e9d323ca62f"
      }
     }
    }
   },
   "themes": {}
  }
 },
 "nbformat": 4,
 "nbformat_minor": 1
}
